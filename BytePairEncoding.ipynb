{
 "cells": [
  {
   "cell_type": "code",
   "execution_count": 1,
   "metadata": {
    "collapsed": false
   },
   "outputs": [],
   "source": [
    "import re, collections\n",
    "from nltk import word_tokenize, RegexpTokenizer"
   ]
  },
  {
   "cell_type": "code",
   "execution_count": 17,
   "metadata": {
    "collapsed": true
   },
   "outputs": [],
   "source": [
    "text1 = \"An inexperienced England side held world champions Germany to a goalless draw in an entertaining international friendly at Wembley.\"\n",
    "text2 = \"On Friday it was announced by Marseille his contract had been terminated 'by mutual consent' and he would leave the club immediately.\"\n",
    "text3 = \"He will remain suspended should he sign for a club who is still in European competition.\"\n",
    "text4 = \"Gareth Bale has suffered a further injury setback in his bid to return to action with Real Madrid.\"\n",
    "text5 = \"Sadio Mane played the leading role to take Senegal to next year's World Cup in Russia\"\n",
    "text6 = \"However Marcelo soon made it two with a thumping right-footed drive from outside the box, before Jesus made it three\"\n",
    "text7 = \"Nadal faces David Goffin of Belgium on Monday evening in the last of the first round of matches. \"\n",
    "text8 = \"Former Barcelona and Spain midfielder Xavi Hernandez is set to retire at the end of the season and is keen to pursue a coaching career.\"\n",
    "list_text = [text1,text2,text3,text4,text5,text6,text7,text8]"
   ]
  },
  {
   "cell_type": "code",
   "execution_count": 18,
   "metadata": {
    "collapsed": true
   },
   "outputs": [],
   "source": [
    "def create_initial_vocab(list_text):\n",
    "    tokenizer = RegexpTokenizer(r'\\w+')\n",
    "    counter = collections.Counter()\n",
    "    for text in list_text:\n",
    "        test_tok = tokenizer.tokenize(text.lower())\n",
    "        counter.update(test_tok)\n",
    "    counter_dict = dict(counter)\n",
    "    vocab = {}\n",
    "    for key in counter_dict.keys():\n",
    "        new_key = ' '.join(list(key)) + ' </w>'\n",
    "        vocab[new_key] = counter_dict[key]\n",
    "    return vocab    \n",
    "    "
   ]
  },
  {
   "cell_type": "code",
   "execution_count": 19,
   "metadata": {
    "collapsed": false
   },
   "outputs": [],
   "source": [
    "def get_stats(vocab):\n",
    "    pairs = collections.defaultdict(int)\n",
    "    for word, freq in vocab.items():\n",
    "        symbols = word.split()\n",
    "        for i in range(len(symbols)-1):\n",
    "            pairs[symbols[i],symbols[i+1]] += freq\n",
    "    return pairs"
   ]
  },
  {
   "cell_type": "code",
   "execution_count": 20,
   "metadata": {
    "collapsed": true
   },
   "outputs": [],
   "source": [
    "def merge_vocab(pair, v_in):\n",
    "    v_out = {}\n",
    "    bigram = re.escape(' '.join(pair))\n",
    "    p = re.compile(r'(?<!\\S)' + bigram + r'(?!\\S)')\n",
    "    for word in v_in:\n",
    "        w_out = p.sub(''.join(pair), word)\n",
    "        v_out[w_out] = v_in[word]\n",
    "    return v_out"
   ]
  },
  {
   "cell_type": "code",
   "execution_count": 24,
   "metadata": {
    "collapsed": true
   },
   "outputs": [],
   "source": [
    "def create_vocab(list_text,num_merges):\n",
    "    vocab = create_initial_vocab(list_text)\n",
    "    for i in range(num_merges):\n",
    "        pairs = get_stats(vocab)\n",
    "        best = max(pairs, key=pairs.get)\n",
    "        print(best)\n",
    "        vocab = merge_vocab(best, vocab)\n",
    "    return vocab        "
   ]
  },
  {
   "cell_type": "code",
   "execution_count": 26,
   "metadata": {
    "collapsed": false
   },
   "outputs": [
    {
     "name": "stdout",
     "output_type": "stream",
     "text": [
      "('e', '</w>')\n",
      "('d', '</w>')\n",
      "('n', '</w>')\n",
      "('s', '</w>')\n",
      "('t', 'h')\n",
      "('e', 'r')\n",
      "('t', '</w>')\n",
      "('o', '</w>')\n",
      "('i', 'n')\n",
      "('e', 'n')\n"
     ]
    }
   ],
   "source": [
    "res = create_vocab(list_text,10)"
   ]
  },
  {
   "cell_type": "code",
   "execution_count": null,
   "metadata": {
    "collapsed": true
   },
   "outputs": [],
   "source": []
  },
  {
   "cell_type": "code",
   "execution_count": null,
   "metadata": {
    "collapsed": true
   },
   "outputs": [],
   "source": []
  }
 ],
 "metadata": {
  "kernelspec": {
   "display_name": "Python 3",
   "language": "python",
   "name": "python3"
  },
  "language_info": {
   "codemirror_mode": {
    "name": "ipython",
    "version": 3
   },
   "file_extension": ".py",
   "mimetype": "text/x-python",
   "name": "python",
   "nbconvert_exporter": "python",
   "pygments_lexer": "ipython3",
   "version": "3.6.0"
  }
 },
 "nbformat": 4,
 "nbformat_minor": 2
}
