{
 "cells": [
  {
   "cell_type": "code",
   "execution_count": 18,
   "metadata": {},
   "outputs": [],
   "source": [
    "import numpy as np\n",
    "import torch\n",
    "import matplotlib.pyplot as plt\n",
    "from os import listdir\n",
    "from os.path import isfile, join\n",
    "from sklearn.model_selection import train_test_split\n",
    "from numpy import random"
   ]
  },
  {
   "cell_type": "code",
   "execution_count": 6,
   "metadata": {},
   "outputs": [
    {
     "name": "stdout",
     "output_type": "stream",
     "text": [
      "[Errno 2] No such file or directory: 'train'\n",
      "/Users/saad/Downloads/aclImdb/train\n"
     ]
    }
   ],
   "source": [
    "% cd train"
   ]
  },
  {
   "cell_type": "code",
   "execution_count": 77,
   "metadata": {},
   "outputs": [],
   "source": [
    "def tokenize(s,max_length=1014): \n",
    "    A = []\n",
    "    m = min(max_length,len(s))\n",
    "    for i in range(m):\n",
    "        c = s[i]\n",
    "        A.append(ord(c))\n",
    "    return np.array(A)\n",
    "        \n",
    "def dataGenerator(train_split=0.8,binary=False): \n",
    "    reviews = []\n",
    "    ratings = []\n",
    "    \n",
    "    for filename in ['pos', 'neg']:\n",
    "        files = [f for f in listdir(filename) if isfile(join(filename, f))]\n",
    "        for f in files: \n",
    "            name = f.split('.')[0]\n",
    "            name = name.split('_')\n",
    "            id = name[0]\n",
    "            rating = name[1]\n",
    "            if(binary): \n",
    "                if(filename=='pos'): \n",
    "                    rating=1\n",
    "                else: \n",
    "                    rating=0\n",
    "            ratings.append(rating)\n",
    "            path = filename+'/'+f\n",
    "            with open(path) as myfile:\n",
    "                data=myfile.read()\n",
    "                data=tokenize(data)\n",
    "                reviews.append(data)\n",
    "                \n",
    "    reviews = np.array(reviews)\n",
    "    ratings = np.array(ratings,dtype=float)\n",
    "    #rewiews, ratings\n",
    "    \n",
    "    #random split 0.8 / 0.2\n",
    "    reviews_train, reviews_val, ratings_train, ratings_val =  train_test_split(reviews, ratings, test_size=1-train_split)\n",
    "    return reviews_train, ratings_train, reviews_val, ratings_val\n",
    "\n",
    "def batchify(review, rating, batch_size=32):   \n",
    "    batches1 = []\n",
    "    batches2 = []\n",
    "    dataset_size = len(review)\n",
    "    start = -1 * batch_size\n",
    "    order = np.arange(dataset_size)\n",
    "    random.shuffle(order)\n",
    "\n",
    "    while start < dataset_size - batch_size:\n",
    "        start += batch_size\n",
    "        batch_indices = order[start:start + batch_size]\n",
    "        batch1 = [review[index] for index in batch_indices]\n",
    "        batch2 = [rating[index] for index in batch_indices]\n",
    "        batches1.append(batch1)\n",
    "        batches2.append(batch2)\n",
    "        \n",
    "    return np.array(batches1), np.array(batches2)\n",
    "\n",
    "   \n",
    "reviews_train, ratings_train, reviews_val, ratings_val = dataGenerator()\n"
   ]
  },
  {
   "cell_type": "code",
   "execution_count": 79,
   "metadata": {},
   "outputs": [
    {
     "data": {
      "text/plain": [
       "array([ array([ 84, 104, 101,  32, 102, 111, 117, 114, 116, 104,  32, 105, 110,\n",
       "        32, 116, 104, 101,  32,  34,  68, 105, 114, 116, 121,  32,  72,\n",
       "        97, 114, 114, 121,  34,  32, 115, 101, 114, 105, 101, 115,  44,\n",
       "        32, 116, 104, 105, 115,  32, 102, 105, 108, 109,  32, 102, 101,\n",
       "        97, 116, 117, 114, 101, 115,  32, 111, 110, 101,  32, 111, 102,\n",
       "        32, 116, 104, 101,  32, 109, 111, 115, 116,  32, 100, 101, 115,\n",
       "       112, 105,  99,  97,  98, 108, 101,  44,  32, 117, 103, 108, 105,\n",
       "       101, 115, 116,  44,  32, 117, 110, 108, 105, 107,  97,  98, 108,\n",
       "       101,  44,  32, 112, 114, 111, 102,  97, 110, 101,  44,  32, 100,\n",
       "       105, 115, 103, 117, 115, 116, 105, 110, 103,  32, 102, 101, 109,\n",
       "        97, 108, 101, 115,  32,  73,  32, 104,  97, 118, 101,  32, 101,\n",
       "       118, 101, 114,  32, 115, 101, 101, 110,  32, 111, 110,  32, 102,\n",
       "       105, 108, 109,  58,  32,  34,  82,  97, 121,  32,  80, 101, 114,\n",
       "       107, 105, 110, 115,  44,  34,  32, 112, 108,  97, 121, 101, 100,\n",
       "        32,  98, 121,  32,  65, 117, 100, 114, 105, 101,  32,  78, 101,\n",
       "       101, 110,  97, 110,  46,  32,  83, 104, 101,  32, 105, 115,  32,\n",
       "       116, 104, 101,  32, 109, 111, 100, 101, 114, 110,  32, 110,  97,\n",
       "       115, 116, 121,  32, 108, 111, 119,  45, 108, 105, 102, 101,  32,\n",
       "       118, 101, 114, 115, 105, 111, 110,  32, 111, 102,  32, 116, 104,\n",
       "       101,  32,  49,  57,  52,  53,  32,  34,  68, 101, 116, 111, 117,\n",
       "       114,  34,  32,  99, 104,  97, 114,  97,  99, 116, 101, 114,  44,\n",
       "        32,  34,  65, 110, 110,  32,  83,  97, 118,  97, 103, 101,  46,\n",
       "        34,  60,  98, 114,  32,  47,  62,  60,  98, 114,  32,  47,  62,\n",
       "        72, 101, 114,  32, 102, 111, 117, 108,  32, 109, 111, 117, 116,\n",
       "       104,  32,  97, 110, 100,  32, 103, 117, 116, 116, 101, 114,  32,\n",
       "        97, 116, 116, 105, 116, 117, 100, 101,  32, 116, 117, 114, 110,\n",
       "       101, 100,  32, 109, 101,  32, 111, 102, 102,  32, 115, 111,  32,\n",
       "       109, 117,  99, 104,  32,  73,  32, 110, 101, 118, 101, 114,  32,\n",
       "       119,  97, 116,  99, 104, 101, 100,  32, 116, 104, 105, 115,  32,\n",
       "       102, 105, 108, 109,  32,  97, 103,  97, 105, 110,  32, 117, 110,\n",
       "       116, 105, 108,  32,  73,  32,  97,  99, 113, 117, 105, 114, 101,\n",
       "       100,  32,  97,  32, 112, 114, 111, 102,  97, 110, 105, 116, 121,\n",
       "        32, 102, 105, 108, 116, 101, 114,  32, 119, 104, 105,  99, 104,\n",
       "        32, 115, 104, 117, 116,  32, 104, 101, 114,  32, 117, 112,  46,\n",
       "        46,  46,  46,  97, 110, 100,  32, 108, 101,  97, 115, 116,  32,\n",
       "       115, 111, 109, 101,  32, 111, 102,  32, 104, 101, 114,  33,  32,\n",
       "        84, 104, 101, 110,  32,  73,  32,  99, 111, 117, 108, 100,  32,\n",
       "       101, 110, 106, 111, 121,  32, 116, 104, 101,  32, 114, 101, 115,\n",
       "       116,  32, 111, 102,  32, 116, 104, 101,  32, 109, 111, 118, 105,\n",
       "       101,  46,  60,  98, 114,  32,  47,  62,  60,  98, 114,  32,  47,\n",
       "        62,  69, 118, 101, 114, 121, 119, 104, 101, 114, 101,  32,  34,\n",
       "        72,  97, 114, 114, 121,  32,  67,  97, 108, 108,  97, 104,  97,\n",
       "       110,  34,  32,  40,  67, 108, 105, 110, 116,  32,  69,  97, 115,\n",
       "       116, 119, 111, 111, 100,  41,  32, 103, 111, 101, 115,  44,  32,\n",
       "       118, 105, 111, 108, 101, 110,  99, 101,  32, 105, 109, 109, 101,\n",
       "       100, 105,  97, 116, 101, 108, 121,  32, 102, 111, 108, 108, 111,\n",
       "       119, 115,  46,  46,  46,  46,  46, 119, 105, 116, 104, 105, 110,\n",
       "        32, 109, 105, 110, 117, 116, 101, 115,  33,  32,  73, 116,  32,\n",
       "       104,  97, 112, 112, 101, 110, 115,  32, 115, 111,  32, 111, 102,\n",
       "       116, 101, 110,  32, 105, 116,  39, 115,  32,  97, 108, 109, 111,\n",
       "       115, 116,  32, 108,  97, 117, 103, 104,  97,  98, 108, 101,  32,\n",
       "        98, 117, 116,  32, 105, 116,  32, 109,  97, 107, 101, 115,  32,\n",
       "       102, 111, 114,  32,  97,  32, 102,  97, 115, 116,  45, 109, 111,\n",
       "       118, 105, 110, 103,  44,  32, 101, 110, 116, 101, 114, 116,  97,\n",
       "       105, 110, 105, 110, 103,  32, 102, 105, 108, 109,  32, 119, 105,\n",
       "       116, 104,  32,  97,  32, 115,  97, 116, 105, 115, 102, 121, 105,\n",
       "       110, 103,  32, 101, 110, 100, 105, 110, 103,  32,  97, 115,  32,\n",
       "        97, 108, 108,  32, 116, 104, 101,  32, 115,  99, 117, 109,  98,\n",
       "        97, 103,  32, 118, 105, 108, 108,  97, 105, 110, 115,  32,  97,\n",
       "       114, 101,  32, 101, 108, 105, 109, 105, 110,  97, 116, 101, 100,\n",
       "        32, 111, 110, 101,  45,  98, 121,  45, 111, 110, 101,  46,  60,\n",
       "        98, 114,  32,  47,  62,  60,  98, 114,  32,  47,  62,  84, 104,\n",
       "       105, 115,  32, 105, 115,  32,  97,  32, 118, 101, 114, 121,  32,\n",
       "       115, 111, 112, 104, 111, 109, 111, 114, 105,  99,  32, 102, 105,\n",
       "       108, 109,  32, 116, 104,  97, 116,  32,  97, 112, 112, 101,  97,\n",
       "       108, 115,  32, 116, 111,  32, 111, 117, 114,  32,  98,  97, 115,\n",
       "       101,  32, 105, 110, 115, 116, 105, 110,  99, 116, 115,  46,  46,\n",
       "        46,  46,  46,  97, 110, 100,  32,  99, 111, 110, 110, 101,  99,\n",
       "       116, 115,  44,  32, 115,  97, 100,  32, 116, 111,  32, 115,  97,\n",
       "       121,  46,  32,  77, 111, 115, 116,  32, 111, 102,  32, 117, 115,\n",
       "        32, 108, 105, 107, 101,  32, 116, 111,  32, 115, 101, 101,  32,\n",
       "       116, 104, 101, 115, 101,  32, 100, 105, 114, 116,  98,  97, 108,\n",
       "       108, 115,  32, 103, 101, 116,  32, 105, 116,  32, 105, 110,  32,\n",
       "       116, 104, 101,  32, 101, 110, 100,  44,  32,  97, 110, 100,  32,\n",
       "       119, 104, 111,  32, 100, 111, 101, 115,  32, 105, 116,  32,  98,\n",
       "       101, 116, 116, 101, 114,  32, 116, 104,  97, 110,  32,  68, 105,\n",
       "       114, 116, 121,  32,  72,  97, 114, 114, 121,  63]),\n",
       "       array([ 70, 105, 114, ..., 101, 108, 112]),\n",
       "       array([ 73,  32, 119, 111, 110, 116,  32, 116,  97, 107, 101,  32, 116,\n",
       "       111, 111,  32, 109, 117,  99, 104,  32, 116, 105, 109, 101,  32,\n",
       "       104, 101, 114, 101,  44,  32, 106, 117, 115, 116,  32, 119,  97,\n",
       "       110, 116, 101, 100,  32, 116, 111,  32, 115, 116,  97, 116, 101,\n",
       "        32, 116, 104,  97, 116,  32,  68,  97, 114, 107, 109,  97, 110,\n",
       "        32,  51,  32, 105, 115,  32,  97, 119, 101, 115, 111, 109, 101,\n",
       "        46,  32,  73,  32, 104,  97, 118, 101,  32,  97, 108, 108,  32,\n",
       "        51,  32, 111, 110,  32,  68,  86,  68,  44,  32,  97, 100, 100,\n",
       "       101, 100,  32, 116, 104, 101, 115, 101,  32, 116, 111,  32, 109,\n",
       "       121,  32,  99, 111, 108, 108, 101,  99, 116, 105, 111, 110,  32,\n",
       "       111, 102,  32,  68,  86,  68,  32, 109, 111, 118, 105, 101,  32,\n",
       "       115, 101, 116, 115,  46,  32,  68,  97, 114, 107, 109,  97, 110,\n",
       "        32, 114,  97, 110, 107, 115,  32, 117, 112,  32, 116, 104, 101,\n",
       "       114, 101,  32, 119, 105, 116, 104,  32, 116, 104, 101,  32,  98,\n",
       "       101, 115, 116,  44,  32, 108, 105, 107, 101,  32,  73, 110, 100,\n",
       "       105,  97, 110,  97,  32,  74, 111, 110, 101, 115,  44,  32,  65,\n",
       "       108, 105, 101, 110, 115,  44,  32,  83, 116,  97, 114,  32,  87,\n",
       "        97, 114, 115,  44,  32,  68, 105, 101,  32, 104,  97, 114, 100,\n",
       "        44,  32, 121, 111, 117,  32, 103, 101, 116,  32, 116, 104, 101,\n",
       "        32, 112, 111, 105, 110, 116,  46,  32,  84, 104, 101, 114, 101,\n",
       "        32, 105, 115, 110,  39, 116,  32, 116, 111, 111,  32, 109,  97,\n",
       "       110, 121,  32, 103, 111, 111, 100,  32, 104, 111, 114, 114, 111,\n",
       "       114,  44,  32, 116, 104, 114, 105, 108, 108, 101, 114,  44,  32,\n",
       "       115, 101, 116, 115,  32, 111, 117, 116,  32, 116, 104, 101, 114,\n",
       "       101,  46,  32,  77,  97, 110, 121,  32, 116, 104,  97, 110, 107,\n",
       "       115,  32, 116, 111,  32, 116, 104, 101,  32, 119, 104, 111, 108,\n",
       "       101,  32,  99, 114, 101, 119,  44,  32,  97, 110, 100,  32, 115,\n",
       "       101, 116,  32, 102, 111, 114,  32, 103, 105, 118, 105, 110, 103,\n",
       "        32, 117, 115,  32, 116, 104, 101,  32,  68,  97, 114, 107, 109,\n",
       "        97, 110,  32, 116, 114, 105, 108, 111, 103, 121,  46,  32,  66,\n",
       "       121,  32, 116, 104, 101,  32, 119,  97, 121,  32, 105, 102,  32,\n",
       "       121, 111, 117, 114,  32, 119, 111, 110, 100, 101, 114, 105, 110,\n",
       "       103,  32, 104, 111, 119,  32,  73,  32,  99,  97, 109, 101,  32,\n",
       "        97,  99, 114, 111, 115, 115,  32, 116, 104, 105, 115,  32, 111,\n",
       "       110, 101,  32, 111, 110,  32,  68,  86,  68,  46,  32,  73,  32,\n",
       "       112, 117, 114,  99, 104,  97, 115, 101, 100,  32, 105, 116,  32,\n",
       "       116, 104, 114, 111, 117, 103, 104,  32, 116, 104, 101,  32, 105,\n",
       "       110, 116, 101, 114, 110, 101, 116,  44,  32, 105, 116,  32, 105,\n",
       "       115,  32, 104, 111, 119, 101, 118, 101, 114,  32, 114, 101, 103,\n",
       "       105, 111, 110,  32,  52,  44,  32,  97, 115,  32, 121, 111, 117,\n",
       "        32, 107, 110, 111, 119,  32, 109, 111, 115, 116,  32,  85,  83,\n",
       "        32,  68,  86,  68,  32, 112, 108,  97, 121, 101, 114, 115,  32,\n",
       "        97, 114, 101,  32, 114, 101, 103, 105, 111, 110,  32,  49,  46,\n",
       "        32,  73, 102,  32, 121, 111, 117,  32, 111, 119, 110,  32,  97,\n",
       "        32,  83, 111, 110, 121,  32,  80, 108,  97, 121, 115, 116,  97,\n",
       "       116, 105, 111, 110,  32,  50,  44,  32, 121, 111, 117,  32, 104,\n",
       "        97, 118, 101,  32, 116, 104, 101,  32,  98, 101, 115, 116,  32,\n",
       "        68,  86,  68,  32, 112, 108,  97, 121, 101, 114,  32, 115, 105,\n",
       "       110,  99, 101,  32, 105, 116,  32, 105, 115,  32,  97, 110,  32,\n",
       "        97, 108, 108,  32, 114, 101, 103, 105, 111, 110,  32, 112, 108,\n",
       "        97, 121, 101, 114,  46,  32,  74, 117, 115, 116,  32, 103, 111,\n",
       "        32, 116, 111,  32, 115, 101, 116,  32, 117, 112,  32, 116, 104,\n",
       "       101, 110,  32,  99, 104, 111, 111, 115, 101,  32, 119, 105, 116,\n",
       "        99, 104,  32, 114, 101, 103, 105, 111, 110,  32, 115, 101, 116,\n",
       "       116, 105, 110, 103,  32, 121, 111, 117,  32, 119,  97, 110, 116,\n",
       "        32,  40,  32,  49,  45,  57,  32,  41,  46]),\n",
       "       ...,\n",
       "       array([ 73,  39, 100,  32, 106, 117, 115, 116,  32, 108, 105, 107, 101,\n",
       "        32, 116, 111,  32, 115,  97, 121,  32, 116, 104,  97, 116,  32,\n",
       "       105,  39, 118, 101,  32, 115, 101, 101, 110,  32, 116, 104, 105,\n",
       "       115,  32, 102, 105, 108, 109,  32, 116, 119, 105,  99, 101,  32,\n",
       "       110, 111, 119,  32,  97, 110, 100,  32, 105,  32, 108, 111, 118,\n",
       "       101,  32, 105, 116,  33,  32,  84, 104, 101,  32,  97,  99, 116,\n",
       "       105, 110, 103,  32, 105, 115,  32, 103, 114, 101,  97, 116,  32,\n",
       "        97, 110, 100,  32, 101, 118, 101, 110,  32, 116, 104, 111, 117,\n",
       "       103, 104,  32, 105, 116,  32, 105, 115,  32,  97,  32, 115, 105,\n",
       "       109, 105, 108,  97, 114,  32, 112, 108, 111, 116,  32, 116, 111,\n",
       "        32,  34,  82,  97, 105, 115, 101,  32,  89, 111, 117, 114,  32,\n",
       "        86, 111, 105,  99, 101,  34,  32,  73,  32, 116, 104, 105, 110,\n",
       "       107,  32, 116, 104,  97, 116,  32, 116, 104, 101,  32, 112, 108,\n",
       "       111, 116,  32, 110, 101, 118, 101, 114,  32, 103, 101, 116, 115,\n",
       "        32,  98, 111, 114, 105, 110, 103,  32, 102, 111, 114,  32, 112,\n",
       "       101, 111, 112, 108, 101,  32, 119, 104, 111,  32, 108, 105, 107,\n",
       "       101,  32, 116, 104,  97, 116,  32, 107, 105, 110, 100,  32, 111,\n",
       "       102,  32, 116, 104, 105, 110, 103,  46,  32,  73, 116,  32, 104,\n",
       "        97, 115,  32, 115, 111, 109, 101,  32, 103, 114, 101,  97, 116,\n",
       "        32, 108, 101, 115, 115, 111, 110, 115,  32, 105, 110,  32, 105,\n",
       "       116,  32,  97, 110, 100,  32, 115, 104, 111, 119, 115,  32, 117,\n",
       "       115,  32, 116, 104,  97, 116,  32, 119, 101,  32,  99,  97, 110,\n",
       "        32, 100, 111,  32,  97, 110, 121, 116, 104, 105, 110, 103,  32,\n",
       "       105, 102,  32, 119, 101,  32, 116, 114, 121,  46,  32,  65, 110,\n",
       "        32, 105, 110,  99, 114, 101, 100, 105,  98, 108, 101,  32, 102,\n",
       "       105, 108, 109,  46,  32,  73,  32,  97, 109,  32, 115, 117, 114,\n",
       "       101,  32, 116, 104,  97, 116,  32, 116, 104, 105, 115,  32, 105,\n",
       "       115,  32, 111, 110, 101,  32, 105,  32, 119, 105, 108, 108,  32,\n",
       "        98, 101,  32, 119,  97, 116,  99, 104, 105, 110, 103,  32, 102,\n",
       "       111, 114,  32,  97,  32, 108, 111, 110, 103,  32, 116, 105, 109,\n",
       "       101,  32, 116, 111,  32,  99, 111, 109, 101,  46,  32,  69, 118,\n",
       "       101, 110,  32, 116, 104, 111, 117, 103, 104,  32,  66, 114, 105,\n",
       "       116, 110, 101, 121,  32,  83, 112, 101,  97, 114, 115,  32, 119,\n",
       "       114, 105, 116, 101,  32, 116, 104, 101,  32,  98, 111, 111, 107,\n",
       "        32, 105, 116,  32, 105, 115,  32, 113, 117, 105, 116, 101,  32,\n",
       "        97,  32, 114, 101,  97, 108, 105, 115, 116, 105,  99,  32, 112,\n",
       "       108, 111, 116,  44,  32, 109,  97, 121,  98, 101,  32, 110, 111,\n",
       "       116,  32,  97,  98, 111, 117, 116,  32, 116, 104, 101,  32, 102,\n",
       "        97, 108, 108, 105, 110, 103,  32, 105, 110,  32, 108, 111, 118,\n",
       "       101,  32, 112,  97, 114, 116,  44,  32,  98, 117, 116,  32, 116,\n",
       "       104, 101,  32, 112,  97, 114, 116,  32,  97,  98, 111, 117, 116,\n",
       "        32,  98, 101, 105, 110, 103,  32, 100, 105, 102, 102, 101, 114,\n",
       "       101, 110, 116,  32,  97, 110, 100,  32, 115, 116, 114, 117, 103,\n",
       "       103, 108, 105, 110, 103,  32,  98, 117, 116,  32,  99, 111, 109,\n",
       "       105, 110, 103,  32, 111, 117, 116,  32,  98, 101, 115, 116,  32,\n",
       "       105, 110,  32, 116, 104, 101,  32, 101, 110, 100,  32, 105, 115,\n",
       "        32, 118, 101, 114, 121,  32, 116, 114, 117, 101,  32, 116, 111,\n",
       "        32, 114, 101,  97, 108,  32, 108, 105, 102, 101,  46,  32,  84,\n",
       "       104, 101,  32, 111, 110, 108, 121,  32, 109, 105, 110, 111, 114,\n",
       "        32,  99, 114, 105, 116, 105,  99, 105, 115, 109,  32, 105, 115,\n",
       "        32, 119, 104, 121,  32, 105, 115,  32, 116, 104, 101,  32, 109,\n",
       "        97, 105, 110,  32, 103, 105, 114, 108,  32, 105, 110,  32, 116,\n",
       "       104, 101, 115, 101,  32, 102, 105, 108, 109, 115,  32,  97, 108,\n",
       "       119,  97, 121, 115,  32,  98, 101,  97, 117, 116, 105, 102, 117,\n",
       "       108,  63,  32,  68, 111,  32, 121, 111, 117,  32, 114, 101,  97,\n",
       "       108, 108, 121,  32, 116, 104, 105, 110, 107,  32, 116, 104,  97,\n",
       "       116,  32,  72, 111, 108, 108, 121,  32, 119, 111, 117, 108, 100,\n",
       "        32, 104,  97, 118, 101,  32, 109, 101, 116,  32, 116, 104, 101,\n",
       "        32, 112, 101, 114, 102, 101,  99, 116,  32, 103, 117, 121,  32,\n",
       "       111, 102,  32, 104, 101, 114,  32, 100, 114, 101,  97, 109, 115,\n",
       "        32, 105, 102,  32, 115, 104, 101,  32, 119,  97, 115,  32, 117,\n",
       "       103, 108, 121,  32, 111, 114,  32,  97, 118, 101, 114,  97, 103,\n",
       "       101,  63,  32,  73,  32, 100, 111, 117,  98, 116,  32, 105, 116,\n",
       "        46,  46]),\n",
       "       array([ 84, 104, 105, 115,  32, 109, 111, 118, 105, 101,  32, 104,  97,\n",
       "       115,  32, 111, 110, 101,  32, 111, 102,  32, 116, 104, 101,  32,\n",
       "        99, 104, 101, 101, 115, 105, 101, 115, 116,  32, 112, 108, 111,\n",
       "       116, 115,  32,  73,  32, 104,  97, 118, 101,  32, 115, 101, 101,\n",
       "       110,  46,  32,  70, 111, 114,  32, 109, 101,  44,  32, 116, 104,\n",
       "        97, 116,  39, 115,  32, 119, 104,  97, 116,  32, 109,  97, 107,\n",
       "       101, 115,  32, 105, 116,  32, 115, 111,  32,  97, 119, 101, 115,\n",
       "       111, 109, 101,  33,  32,  70, 114, 101, 100,  32,  71, 119, 121,\n",
       "       110, 110, 101,  32,  97, 110, 100,  32,  65, 108,  32,  76, 101,\n",
       "       119, 105, 115,  32,  97, 114, 101,  32, 118, 101, 114, 121,  32,\n",
       "       103, 111, 111, 100,  32,  97, 116,  32, 119, 104,  97, 116,  32,\n",
       "       116, 104, 101, 121,  32,  97,  99, 104, 105, 101, 118, 101, 100,\n",
       "        32, 105, 110,  32, 116, 104, 101,  32, 111, 114, 105, 103, 105,\n",
       "       110,  97, 108,  32,  77, 117, 110, 115, 116, 101, 114, 115,  32,\n",
       "       115, 101, 114, 105, 101, 115,  46,  32,  87, 104, 105, 108, 101,\n",
       "        32, 116, 104, 101, 114, 101,  32, 119,  97, 115,  32, 108, 101,\n",
       "       115, 115,  32, 115, 108,  97, 112, 115, 116, 105,  99, 107,  44,\n",
       "        32, 116, 104, 101, 121,  32, 115, 116, 105, 108, 108,  32, 119,\n",
       "       111, 114, 107, 101, 100,  32, 119, 111, 110, 100, 101, 114, 102,\n",
       "       117, 108, 108, 121,  32, 116, 111, 103, 101, 116, 104, 101, 114,\n",
       "        32,  34,  99, 111, 109, 101, 100, 105,  99,  97, 108, 108, 121,\n",
       "        46,  34,  32,  73,  32, 119, 105, 115, 104,  32,  89, 118, 111,\n",
       "       110, 110, 101,  32,  68, 101,  32,  67,  97, 114, 108, 111,  44,\n",
       "        32,  97, 115,  32,  76, 105, 108, 121,  44,  32, 119, 111, 117,\n",
       "       108, 100,  32, 104,  97, 118, 101,  32, 104,  97, 100,  32, 109,\n",
       "       111, 114, 101,  32, 112, 108, 111, 116,  32, 105, 110, 118, 111,\n",
       "       108, 118, 101, 109, 101, 110, 116,  46,  32,  83, 104, 101,  32,\n",
       "       115, 104, 111, 119, 101, 100,  32, 116, 104,  97, 116,  32, 115,\n",
       "       104, 101,  32,  99, 111, 117, 108, 100,  32, 100, 111,  32,  99,\n",
       "       111, 109, 101, 100, 121,  32, 105, 110,  32, 116, 104, 101,  32,\n",
       "       111, 114, 105, 103, 105, 110,  97, 108,  32, 115, 101, 114, 105,\n",
       "       101, 115,  44,  32,  98, 117, 116,  32, 105, 116,  32, 119,  97,\n",
       "       115,  32, 109, 111, 115, 116, 108, 121,  32, 119,  97, 115, 116,\n",
       "       101, 100,  32, 105, 110,  32, 116, 104, 105, 115,  32, 109, 111,\n",
       "       118, 105, 101,  46,  32,  84, 104, 105, 115,  32, 109, 111, 118,\n",
       "       105, 101,  32,  97, 108, 115, 111,  32, 115, 116,  97, 114, 115,\n",
       "        32, 116, 104, 101,  32, 103, 114, 101,  97, 116,  32,  83, 105,\n",
       "       100,  32,  67,  97, 101, 115,  97, 114,  44,  32,  98, 117, 116,\n",
       "        32, 115,  97, 100, 108, 121,  32, 104, 101,  32, 100, 111, 101,\n",
       "       115, 110,  39, 116,  32, 104,  97, 118, 101,  32,  97, 110, 121,\n",
       "        32, 105, 110, 116, 101, 114,  97,  99, 116, 105, 111, 110,  32,\n",
       "       119, 105, 116, 104,  32,  71, 119, 121, 110, 110, 101,  32,  97,\n",
       "       110, 100,  32,  76, 101, 119, 105, 115,  46,  32,  73,  32, 116,\n",
       "       104, 105, 110, 107,  32, 115, 111, 109, 101,  32,  98, 101, 116,\n",
       "       116, 101, 114,  32, 119, 111, 114, 107,  32,  99, 111, 117, 108,\n",
       "       100,  32, 104,  97, 118, 101,  32,  99, 111, 109, 101,  32, 111,\n",
       "       117, 116,  32, 111, 102,  32, 116, 104,  97, 116,  46]),\n",
       "       array([ 65,  32, 115, 111, 108, 105, 100,  32,  66,  32, 109, 111, 118,\n",
       "       105, 101,  46,  60,  98, 114,  32,  47,  62,  60,  98, 114,  32,\n",
       "        47,  62,  73,  32, 108, 105, 107, 101,  32,  74,  97, 107, 101,\n",
       "        32,  87, 101,  98, 101, 114,  46,  32,  72, 105, 115,  32, 117,\n",
       "       110, 100, 101, 114, 115, 116,  97, 116, 101, 100,  32, 100, 101,\n",
       "       108, 105, 118, 101, 114, 121,  32, 105, 115,  32, 114, 101, 102,\n",
       "       114, 101, 115, 104, 105, 110, 103,  32, 105, 110,  32,  97,  32,\n",
       "       116, 105, 109, 101,  32, 111, 102,  32, 111, 118, 101, 114,  32,\n",
       "       116, 104, 101,  32, 116, 111, 112,  32, 112, 101, 114, 102, 111,\n",
       "       114, 109,  97, 110,  99, 101, 115,  46,  32,  73,  32, 108, 105,\n",
       "       107, 101, 100,  32, 116, 104, 101,  32, 114, 101, 108,  97, 116,\n",
       "       105, 111, 110, 115, 104, 105, 112,  32,  98, 101, 116, 119, 101,\n",
       "       101, 110,  32, 116, 104, 101,  32, 102,  97, 116, 104, 101, 114,\n",
       "        32,  97, 110, 100,  32, 115, 111, 110,  46,  32,  73,  32, 108,\n",
       "       105, 107, 101, 100,  32, 116, 104, 101,  32, 102,  97, 109, 105,\n",
       "       108, 121,  32, 100, 121, 110,  97, 109, 105,  99, 115,  46,  32,\n",
       "        84, 104, 101,  32,  87, 101, 110, 100, 105, 103, 111,  32, 108,\n",
       "       111, 111, 107, 115,  32, 115, 105, 108, 108, 121,  44,  32,  98,\n",
       "       117, 116,  32, 105, 116,  32, 105, 115,  32,  97,  32, 114, 101,\n",
       "       112, 114, 101, 115, 101, 110, 116,  97, 116, 105, 111, 110,  32,\n",
       "       111, 102,  32, 116, 104, 101,  32, 107, 105, 100,  39, 115,  32,\n",
       "       116, 111, 121,  32,  97, 110, 100,  32, 116, 104, 101,  32, 100,\n",
       "       101,  97, 100,  32, 100, 101, 101, 114,  46,  32,  73, 116,  39,\n",
       "       115,  32,  97, 110,  32,  97, 109,  97, 108, 103,  97, 109,  97,\n",
       "       116, 105, 111, 110,  32, 108, 105, 107, 101,  44,  32, 115, 101,\n",
       "       101,  63,  32,  84, 104, 105, 115,  32, 105, 115,  32,  97,  32,\n",
       "       112, 115, 121,  99, 104, 111, 108, 111, 103, 105,  99,  97, 108,\n",
       "        32, 115, 116, 111, 114, 121,  44,  32, 110, 111, 116,  32,  97,\n",
       "        32,  70, 114, 101, 100, 100, 121,  32, 115, 108,  97, 115, 104,\n",
       "        32, 101, 109,  32, 117, 112,  32, 105, 110, 115, 116,  97, 110,\n",
       "       116,  32, 103, 114,  97, 116, 105, 102, 105,  99,  97, 116, 105,\n",
       "       111, 110,  32, 102, 108, 105,  99, 107,  46,  32,  87,  97, 116,\n",
       "        99, 104,  32, 105, 116,  32,  97, 110, 100,  32, 114, 101, 102,\n",
       "       108, 101,  99, 116,  32, 111, 110,  32, 121, 111, 117, 114,  32,\n",
       "       105, 110, 110, 101, 114,  32,  99, 104, 105, 108, 100,  32,  97,\n",
       "       110, 100,  32, 119, 104,  97, 116,  32, 116, 104, 101,  32, 109,\n",
       "       111, 118, 105, 101,  32, 109, 105, 103, 104, 116,  32, 104,  97,\n",
       "       118, 101,  32, 116, 111,  32, 115,  97, 121,  32, 116, 111,  32,\n",
       "       121, 111, 117,  32,  97, 110, 100,  32, 121, 111, 117,  39, 108,\n",
       "       108,  32,  98, 101,  32, 102, 105, 110, 101,  46,  60,  98, 114,\n",
       "        32,  47,  62,  60,  98, 114,  32,  47,  62,  78, 105,  99, 101,\n",
       "        32, 119, 111, 114, 107,  46])], dtype=object)"
      ]
     },
     "execution_count": 79,
     "metadata": {},
     "output_type": "execute_result"
    }
   ],
   "source": [
    "reviews_train"
   ]
  },
  {
   "cell_type": "code",
   "execution_count": 66,
   "metadata": {},
   "outputs": [
    {
     "data": {
      "text/plain": [
       "\"Be warned! <br /><br />This is crap that other crap won't even deign to be in company with because it's beneath them! Okay, got that out of the way, let me say something more substantive.<br /><br />I've seen Ashes of Time a very long time ago thinking it was a fresh take on the material which is based on a highly revered wuxia tome of a novel due to the emerging reputation of the director, Wong Kar Wai. Well, despite of all of that WKW hasn't succeeded at adapting the novel on screen according to a lot of wuxia fans; mostly it is just shots of dripping water, beads of sweats, legs of horses running, etc. I couldn't sit through most of the movie.<br /><br />Fast forward many years later when I wanted to give Mr. Wong's movies another shot after hearing many praises, especially from Cannes. I was intrigued by his latest, 2046. A friend told me to start w/ Chungking Express because it is his most accessible movies. So wrong! I was just p.o. that I got duped into wasting my time and money on this piece of pretentious nothingness. Some professional reviewers mentioned it as a meditation on alienation and loneliness in a modern big city, blah, blah, blah. It's all fine if the director has a point of view with something to say as to why these things happen and tell it. But no, he merely shows what is. Faye Wong's acting is very typical of Hong Kong's style: garbled enunciation, deer in the headlight wide eye expression, try to be cute and girlish kind of acting; the rest of the cast is equally uninspired.<br /><br />I think the word, Auteur, is a euphemism for a director who tries something new and different, which is to be applauded, but not one who hasn't yet mastered the art of cinematic story telling, which is what Mr. Wong is, for the last 17 years!\""
      ]
     },
     "execution_count": 66,
     "metadata": {},
     "output_type": "execute_result"
    }
   ],
   "source": [
    "tokenize()"
   ]
  },
  {
   "cell_type": "code",
   "execution_count": 64,
   "metadata": {},
   "outputs": [],
   "source": [
    "training_iter = batchify(reviews_train, ratings_train)"
   ]
  },
  {
   "cell_type": "code",
   "execution_count": 67,
   "metadata": {},
   "outputs": [],
   "source": [
    "TT = training_iter[0]"
   ]
  },
  {
   "cell_type": "code",
   "execution_count": 69,
   "metadata": {},
   "outputs": [
    {
     "data": {
      "text/plain": [
       "(625, 32)"
      ]
     },
     "execution_count": 69,
     "metadata": {},
     "output_type": "execute_result"
    }
   ],
   "source": [
    "TT.shape"
   ]
  },
  {
   "cell_type": "code",
   "execution_count": 70,
   "metadata": {
    "collapsed": true
   },
   "outputs": [],
   "source": [
    "TA = training_iter[1]"
   ]
  },
  {
   "cell_type": "code",
   "execution_count": 71,
   "metadata": {},
   "outputs": [
    {
     "data": {
      "text/plain": [
       "(625, 32)"
      ]
     },
     "execution_count": 71,
     "metadata": {},
     "output_type": "execute_result"
    }
   ],
   "source": [
    "TA.shape"
   ]
  },
  {
   "cell_type": "code",
   "execution_count": 72,
   "metadata": {},
   "outputs": [
    {
     "data": {
      "text/plain": [
       "array([ 10.,   1.,   1.,   2.,   9.,   4.,   1.,  10.,   7.,   1.,   1.,\n",
       "         1.,   9.,   1.,   9.,   4.,   8.,   1.,  10.,   8.,   9.,   2.,\n",
       "        10.,   8.,  10.,  10.,   2.,   3.,   7.,   7.,   1.,  10.])"
      ]
     },
     "execution_count": 72,
     "metadata": {},
     "output_type": "execute_result"
    }
   ],
   "source": [
    "TA[0]"
   ]
  },
  {
   "cell_type": "code",
   "execution_count": 73,
   "metadata": {},
   "outputs": [
    {
     "data": {
      "text/plain": [
       "array([ \"this was one of the funniest and informative shows that I have ever seen. This is a MUST see for anyone over the age of 16. this show had me and my 2 boys laughing out loud from the beginning. I don't know if everything on the show was true but the way it was presented left little doubt that Mr Wuhl was not only very knowledgeable but he also had a blast presenting this information to the very lucky college kids who were in attendance. If Mr Wuhl ever decides to do this format again they will have to rent a building the size of the Georgia Dome to hold all the people who will want to see it. I agree with the idea of making this a HBO series. It would have an amazing following\",\n",
       "       \"I picked up this video after reading the text on the box, the story seemed good, and it had Keanu Reeves! But after 5 minutes of watching, I noticed how horrible his acting was, he walks and talks so stupid the whole time, it's fake and not convincing. It doesn't end there, almost ALL the characters act so badly it's laughable, the only acceptable acting was by Alan Boyce (David), but the guy commits suicide early on and you don't see him again, you never even know why he did it! Everything about this movie screams low quality, I can't believe how such a thing gets released! I was tempted many times to stop watching, in fact I did, half way through it I decided to stop watching and turned the thing off, came to the IMDB to check what other's thought about it, I found zero comments (not surprised), so I decided to force myself to handle the pain and go back to finish it then come here to comment on it. The only good thing going (for me) was the high-school Rock band theme, the occasional guitar playing and singing parts, but that's not worth it.<br /><br />Very bad acting and directing... Terrible movie.\",\n",
       "       'Please don\\'t waste your time. This movie rehashes the worst of Bram Stoker\\'s Dracula (Van Helsing), Anne Rice\\'s Vampire Lestat (rock music and silly biblical references), and Blade (high-tech toys). I really like vampire movies and novels, and there are many out there that are very good . But not this stinker. Not even the soundtrack helps it, mostly because the movie resorts to ridiculous scary classical music rather than the \"kick-ass metal\" some reported. Only a few times did I hear any metal; mostly it was tortured violins. Avoid it like garlic and crucifixes.',\n",
       "       'This film\\'s premise is so simple and obvious that only a Texas millionaire high on oil fumes and whiskey would have a problem understanding it if someone shouted it across the proverbial parking lot. In summary: the oil business is in cahoots with The Government (or Gummint if you prefer), the Gummint is in cahoots with Middle Eastern despots, and the CIA is a singular festering pool of double dealing sons-of-(insert word) willing to toe any line that comes their way. The only people that get done over are the good ones, like Mr Clooney (\"Bob\"). Oh, and terrorism is a result of the poverty which globalization creates when wicked multinationals stalk the world looking for a tasty takeover or three . That really fits to the profiles of the well-heeled 9/11 perpetrators.<br /><br />In Syriana this facile tissue of political half-truths and Hollywood holograms is stirred up in a repugnant vermicelli of story strands that twist, turn and whirl through the gloopy circumlocutions of their own insignificance until the poor viewer is left alone with the conclusion that: <br /><br />1. the \"director\" (good joke) should never be let near a camera again <br /><br />2. people like Clooney and Hurt might know how to act, but they sure don\\'t know how to pick a script <br /><br />3. if you want to see a film that deals with corruption in big business and the state, go and see Claude Chabrol\\'s \"L\\'ivresse du pouvoir\", which is insightful, funny and brilliantly acted. <br /><br />Empty, doom-laden sententious piffle spun out to evening-ruining length.',\n",
       "       'True, it does not follow the book very closely, but it\\'s still a very entertaining take on the story. Swayze was far better in the role than I expected. And Doody avoided the \"silly woman out of her depth in the wilderness\" portrayal most of us probably expected (cf. Kate Capshaw in \"Indiana Jones & the Temple of Doom\").<br /><br />At any rate, it\\'s amazingly better than Richard Chamberlain\\'s awful pair of Quatermain flicks.<br /><br />It is very reminiscent of a western in many ways. About the only thing I didn\\'t care for was all the mysticism, but I guess that is part and parcel of the genre. Like \"how can you have an African adventure story without witch doctresses and preternaturally wise wandering tribesmen?\" Heh.',\n",
       "       'After watching this movie I was honestly disappointed - not because of the actors, story or directing - I was disappointed by this film advertisements.<br /><br />The trailers were suggesting that the battalion \"have chosen the third way out\" other than surrender or die (Polish infos were even misguiding that they had the choice between being killed by own artillery or German guns, they even translated the title wrong as \"misplaced battalion\"). This have tickled the right spot and I bought the movie.<br /><br />The disappointment started when I realized that the third way is to just sit down and count dead bodies followed by sitting down and counting dead bodies... Then I began to think \"hey, this story can\\'t be that simple... I bet this clever officer will find some cunning way to save what left of his troops\". Well, he didn\\'t, they were just sitting and waiting for something to happen. And so was I.<br /><br />The story was based on real events of World War I, so the writers couldn\\'t make much use of their imagination, but even thought I found this movie really unchallenging and even a little bit boring. And as I wrote in the first place - it isn\\'t fault of actors, writers or director - their marketing people have raised my expectations high above the level that this movie could cope with.',\n",
       "       '<br /><br />I am a big-time horror/sci-fi fan regardless of budget, but after watching countless horror movies late night on cable and video, this has to be the worst of all movies. With bloody special effects (what looked like a roast covered in fake blood or ketchup that kept being shown over and over again) and people running around screaming from left, then to right, then back again. It should have stayed with the beginning convenience store scene and stopped there and been 15 minutes. Instead, it is dragged out very long. It is very, very x5 low budget. Many scenes were way, way too long. Narrator sounded very amateurish like a random person out of junior high was talking. This is the only movie to rate lower in my opinion than Manos, Red Zone Cuba, Benji,and Godzilla vs. megalon despite their higher budgets. 10 snoozes, try to stay awake through whole movie in one setting or better yet, avoid it like you would an undead brain-eating mob. The Why-Did-I-Ever-See-This-Piece-Of-Zombie-Dung-Blues. Epitome of nauseatingly bad made movies etc..ad infinitum. -infinity/10',\n",
       "       'This is my FAVORITE ALL time movie. It used to be my Friday night movie with a pizza and bottle of wine when I was single. I first saw this movie with my aunt Brend and sister Chasity. I was in the 2nd grade. I fell in LOVE with Travolta and Sissy was my new best friend. I\\'ve read a lot of comments about why Bud left Sissy & how Sissy has to \"learn to act\" married. But let\\'s go back and look at this for a second: SPOILER - My interpretation of the movie now, not when I was eight is this about Bud & Sissy\\'s relationship takes a turn for the worst because she makes a fool of him at Gilley\\'s riding the bull. They get in a huge fight. Bud tries to make Sissy jealous by asking Pam to dance. Sissy then thinks two wrongs will make a right and Wes asks her if \"she needs any help\". They\\'re all on the dance floor acting like fools when Bud asks Pam, \"when are you going to take me home and rape me?\" Pam answers: \"When ever you\\'re ready Cowboy\". Bud then goes home with Pam to her condo in downtown Houston. Which Daddy has bought for her with his oil money and \"all that that implies\". Bud is the one who cheats on Sissy. Sissy is waiting for Bud when he returns home the next day. Sissy is the ONE who leaves Bud. Then, it\\'s up to Bud to prove to Sissy that he is a real \"cowboy\" and win her back. <br /><br />Anyways, that\\'s my interpretation. Everyone has their I\\'m sure! I love this movie.<br /><br />And believe it or not, I got myself a REAL cowboy! I love him too! :)',\n",
       "       \"Richard Dix decided to retire and so Michael Duane took his place playing the role as Ted Nichols who meets up with a young French girl named Alice Dupres Barkley, (Lenore Aubert). This couple only knew each other for two days and they decided to get married by a Justice of the Peace (Judge) and it is pouring rain when they pull up to the Judge's home and find out he is not home and will not return until the next day. As the couple are inside the house you see some one lift up the hood of their car and takes an automobile part from the engine. Once you see this event happening you realize this couple is in for a big surprise and the story beings to reveal a very mysterious event which surrounds Alice Barkley and so poor Ted Nichols starts out with plenty of trouble and no marriage. Good mystery, but I missed Richard Dix. Enjoy.\",\n",
       "       'Kenneth Branagh attempts to turn William Shakspeare\\'s obscure, rarely-produced comedy into a 1930s-era musical, with the result being both bad Shakespeare and bad musical comedy as the actors are rarely adept at one or the other of the two styles and in some cases flounder badly in both. Particularly painful is Nathan Lane, who seems to be under the impression that he is absolutely hysterical as Costard but is badly mistaken, and Alicia Silverstone who handles the Shakespearean language with all the authority of a teenaged Valley Girl who is reading the script aloud in her middle school English class.<br /><br />The musical numbers are staged with the expertise of a high school production of \"Dames at Sea,\" leaving the cast looking awkward and amateurish while singing and dancing, with the lone exception being Adrian Lester who proves himself a splendid song and dance man. The only other saving grace of the film are Natascha McElhone and Emily Mortimer\\'s contribution as eye candy, but they have given far better performances than in this film and you\\'d be wise to check out some of the other titles in their filmographies and gives this witless mess a pass.',\n",
       "       'I am truly beginning to believe that Seagal is on a mission to see how crappy his films could become.This particular movie was a complete and utter waste of time to see.My first complaint was the cover of the DVD where they have doctored his pic and made him look slimmer and younger when in the film he looks like crap.He has his big pot belly and double chin going for him and the most miserable and bored look on his face.<br /><br />The whole plot was ridiculous to begin with and drawn out way too long.The whole film was leading up to the finale where Seagal and his team had to take on a bunch of people under the influence of a top secret military chemical adrenaline enhancer.There was way too much useless dialogue and not to mention the ridiculous and constant dubbing of Seagals voice even in the middle of a statement.The dubbed voice sounded like a man with a frog in his throat and was quite comical.<br /><br />The fight scenes in the film were horrible.Half the time when Seagal fought you could not even see what was going on.There would be tight shots of him flapping his arms at the camera and then the person flying through a wall or something.It was reminiscent of the old Kung Fu series on television.They used way too much slow motion for the fight scenes.<br /><br />I believe this is Seagals worst film to date and I am glad I did not purchase this film or I would have been very upset since I am a huge fan of Seagal the Aikidoist.The action star is quickly fading away and seems to be getting worse with every performance.',\n",
       "       \"But I got over it. To me, it seemed that even the Author of the book favored Caroline. I felt so sorry for the character Louise, and she was constantly compared with Esau who was evil, I just felt the comparison was a bit harsh and un-realistic. Really though, the movie was bad. I wouldn't really see it unless you're ready for a big let down.\",\n",
       "       'Grey Gardens is shocking, amusing, sad and mesmerizing. I watched in amazement as Ediths Jr. and Sr. bickered and performed while reminiscing of their past. Their existence in a dilapidated mansion, (which they had not left for more than fifteen years) is both a comedy and a tragedy. This is a film you will not soon forget.',\n",
       "       'As usual, I am making a mad dash to see the movies I haven\\'t watched yet in anticipation of the Oscars. I was really looking forward to seeing this movie as it seemed to be right up my alley. I can not for the life of me understand why this movie has gotten the buzz it has. There is no story!! A group of guys meander around Iraq. One day they are here diffusing a bomb. Tomorrow they are tooling around the countryside, by themselves no less and start taking sniper fire. No wait here they are back in Bagdad. There is no cohesive story at all. The three main characters are so overly characterized that they are mere caricatures. By that I mean, we have the sweet kid who is afraid of dying. We have the hardened military man who is practical and just wants to get back safe. And then we have the daredevil cowboy who doesn\\'t follow the rules but has a soft spot for the precocious little Iraqi boy trying to sell soldiers DVDs. What do you think is going to happen??? Well, do you think the cowboy soldier who doesn\\'t follow rules is going to get the sweet kid injured with his renegade ways?? Why yes! Do you think the Iraqi kid that cowboy soldier has a soft spot for is going to get killed and make him go crazy? Why yes! There is no story here. The script is juvenile and predictable! The camera is shaken around a lot to make it look \"artsy\". And for all of you who think this is such a great war picture, go rent \"Full Metal Jacket\", \"Deerhunter\" or \"Platoon\". Don\\'t waste time or money on this boring movie!',\n",
       "       'One of the more intelligent serial killer movies in recent history. ZODIAC KILLER offers an imaginative take on the background and history of one of the most notorious serial killers. The filmmakers create an unexpectedly good insight into the pathology of this mysterious killer, and anyone who remembers Zodiac will be intrigued. Others will want to discover more about this enigmatic criminal. Unlike many serial killers, Zodiac was not insane at all but very methodical and a self-promoter. The director here plays viewer expectations and pulls it off. The film is constructed as a murder mystery, or a \"cold case\"-style thriller. It is an intelligent investigative/procedural-style horror film that will put-off gore-hounds in search of cheap thrills.<br /><br />Some people dislike any movie that is shot on video. This attitude is very old-style and provincial. It is an attitude and view of movies that puts technical issues above entertainment value or artistic value. These attitudes are on the way out. ZODIAC KILLER is a low-budget film, no doubt, but discerning viewers will look beyond that and find a carefully-crafted gem.',\n",
       "       \"This movie is being shown over and over on cable lately, so..<br /><br />There is no excuse for these 2 attractive women to fight over either Luke Wilson or the equally vapid 'villian' in this movie. The female actresses are very cute, and that's the only reason to watch this movie. I suppose it is 'funny' that Luke's even uglier/dorkier/stupider friend is around, but well, that is what we get.<br /><br />Neither of the female leads would ever, EVER talk to any of the males in this movie for more than 5 minutes. What we get is them sobbing and crying and fighting and so on over 2 guys that were best described in Friday the 13th 4. Dead *@$#\",\n",
       "       \"Goldeneye will always go down as one of thee most legendary games in VG history. Their is no doubt about that. But this game, although quite different, could quite possibly be the modern-day Bond champ, of its time.<br /><br />This was not a bond game based on material from another medium. This was a completely new; scripted game. Which even had its own theme song! (wouldnt be bond without it, haha!) Gameplay was excellent, and if you're a fan of the bond games or films alike, you'll enjoy it.<br /><br />Unlike some/most games, these cast members portrayed their characters themselves, as opposed to fictional creations for the game. Which gives it that more cinematic feel. With a very 'bond'-able storyline, you feel like you're in the game as much as you get lost in a movie.<br /><br />Enjoyable in all aspects, from start to finish. Even after beating the game there's still plenty more to be done. With the ranking system and unlockables to be achieved, as well as its multi-player missions, this is a stand-out game. Despite being quite old now, in video game years. It's still a good game that you can pick up & play whenever you feel the need to get a little more Bond in your life. Even now just thinking about it, I've got the theme song stuck in my head. Such a great cast and well-written storyline.<br /><br />The story comes to life on the screen, almost as if the actors were their in front of you, and is every bit as entertaining as the game itself. Superbly done, in true bond fashion. Which can only be named Awesome, Completely Awesome.<br /><br />I've gotta go throw this game on now. If you haven't played it yet, you're missing out!\",\n",
       "       'This piece ain\\'t really worth a comment.. It\\'s simply the worst \"horror\" movie i have ever seen. The actors are bad as bad can be and the whole plot is so silly it nearly made me cry. Shame on you I say!!',\n",
       "       'As someone who\\'s never been into sports, it seems like it would be hard for me to get into the football (or as we Americans inexplicably call it, soccer)-themed \"Bend It Like Beckham\". But I gotta say, this was one cool movie! Anglo-Indian Jesminder Bhamra (Parminder Nagra) and her WASP friend Juliette Paxton (Keira Knightley) love to play football (yes, I\\'m going to say it the British - and international - way) and just adore football player David Beckham. But Jesminder\\'s traditional Sikh parents don\\'t approve (her mother offers a really whacked-out description of football early in the movie). Okay, so maybe it was sort of a cliché in that sense, but you gotta love this movie! And if like me, you go to this movie not knowing the definition of \"bend\" in football...don\\'t worry, the movie explains it (I\\'d also never heard of David Beckham prior to this movie). And we all know that Keira Knightley hit it big: a few months after \"BILB\" came out in the States, she starred in the equally cool \"Pirates of the Caribbean: The Curse of the Black Pearl\".',\n",
       "       \"The Drug Years actually suffers from one of those aspects to mini-series or other kinds of TV documentaries run over and over again for a couple of weeks on TV. It's actually not long enough, in a way. All of the major bases in the decades are covered, and they're all interesting to note as views into post-modern history and from different sides. But it almost doesn't cover enough, or at least what is covered at times is given a once over when it could deserve more time. For example, the information and detail in part three about the whole process and business unto itself of shipping mass amounts of drugs (partly the marijuana, later cocaine) is really well presented, but there are more details that are kept at behest of how much time there is to cover.<br /><br />Overall though the documentary does shed enough light on how drugs, pop-culture, government intervention, the upper classes and lower classes and into suburbia, all felt the wave of various drugs over the years, and the interplay between all was very evident. Nobody in the film- except for the possibility of small hints with the pot)- goes to endorse drugs outright, but what is shown are those in archival clips about the honesty of what is at times fun, and then tragic, about taking certain drugs. The appearances of various staunch, ridiculously anti-drug officials does hammer some points down hard- with even in such an overview of the drug cultures and America's connection as a whole- as there is really only one major point that is made a couple of times by one of the interviewees. The only way to really approach the issue of drugs is not 'just say no', because as the war on drugs has shown it is not as effective as thought. It is really just to come clean on all sides about all the drugs and the people who may be hypocritical about them (as, for example, oxycontin continues on in the marketplace).<br /><br />Is it with the great interest and depth of a Ken Burns documentary? No, but for some summertime TV viewing for the young (i.e. my age) who will view a lot of this as almost ancient history despite most of it being no more than a generation ago, as well as for the 'old' who can reflect some decades later about the great peaks, careless times, and then the disillusionment prodded more by the same media that years earlier propagated and advertised it. There are those who might find the documentary to be particularly biased, which is not totally untrue, but it does attempt to get enough different takes on the social, political, and entertainment conditions of drugs interweaving (for better or obvious worse) for enough of a fascinating view.\",\n",
       "       \"Now days, most people don't watch classic movies, such as this. Most of friends only watch movies from the '90s to present. Thats kinda stingy. <br /><br />Most old movies like this are masterpieces, unique in their own way. Only because, back when these movies were being thought of and made, thats when ideas were fresh. Now people strain just to think of new ideas. <br /><br />Anyway, to the movie. For true fans of classic horror. This is for you. The movie is based with a investigator from Scotland Yard investigating the disappearance of an movie actor, and stumbles on to three other strange occurrences with past residents of the same house. <br /><br />I won't say anymore, for I will ruin the movie more than I already have. But it is a terrific movie for as old as it is. And would never mind watching it again!\",\n",
       "       'To say Funky Forest: The First Contact is a bad movie is an understatement of incredible proportions. I can really get into a good art house film, even a surreal and twisted romp like El Topo, Naked Lunch, and Survive Style 5+, because those movies actually have something worth discussing when the credits roll.<br /><br />FFFC attempts at every avenue to be this deep and intellectual, essentially there is no substance in this movie. This movie is badly done, the visuals in this movie are not inspiring, the dialog is worse, the musical numbers destroy this movie.. I chuckled for GUITAR BROTHERS, but that was immediately wiped out by something completely unnecessary, and irrelevant. It attempted to be deep and meaningful I think, but its just pretentious disoriented nonsense. Freshman film students without a camera could craft something more interesting.<br /><br />Guitar Brothers and the stand up routines in between skits get 1 point each, everything else is just badly paced, pseudo-creative, heavy handed attempts at being AS good as films by other REAL directors like, Sogo Ishii, David Lynch, and Jodoworsky. Give me a break. I am convinced that people that rave about FFFC are doing so because they have no idea of what they saw, because it was nothing but mild pertinent statements here and there mixed with stupidity and blended until you puke on your own shoes.<br /><br />This movie was an extreme disappointment, coming off the high that was Survive Style 5+, a film that actually has meaning, combined with excellent use of scenery, cinematography, catchy dialog, funny moments, good soundtrack, excellent performances, fantastic pacing and flow. FFFC features the exact opposite in every way, boring scenery (20 minutes staring at a bland beach at night? a completely white stage? Alien balls floating in white space? a dinky school hallway and then a... school hallway?), terrible cinematography, forgettable dialog, nothing funny or humorous, save the fact you just wasted your life for two hours, soundtrack?, amateurish performances, uneven, disjointed, and often flat out dragging pacing, zero flow whatsoever.<br /><br />There are those that claim this is what makes FFFC a great movie, that it is so unconventional at every turn that its pure genius. This is simply a way to stroke your own ego it seems, because \"unpredictable\" could be a good quality for a film if it wasn\\'t coupled with \"boring\", \"innane\", and \"terrible\". Personally I have spoken with two people who admitted to me that FFFC was terrible when they left the theater, but overwhelming rave by art-house elitist made them watch the movie again and then come back to me with a... \"Hey it was pretty good I liked it\".<br /><br />I\\'m going to put my foot down, this movie is slop, I don\\'t care if Roger Ebert says this film is the best thing he\\'s ever watched since he lost his own virginity. \"The Emperor\\'s new cloak\" I say... this movie is no way indicative of the other psychedelic/trippy films to come from Japan in the last 10 years. Taste of Tea, Party 7, and Kamikaze Girls are much better movies (even with a low budget), and none can honestly compare with Survive Style 5+. Watch FFFC only if your interested in making a pretentious pile of nothing on a shoestring budget.',\n",
       "       \"THE MAN IN THE WHITE SUIT, like I'M ALL RIGHT JACK, takes a dim view of both labor and capital. Alec Guinness is a scientific genius - but an eccentric one (he has never gotten his university degree due to an...err...accident in a college laboratory). He manages to push himself into various industrial labs in the textile industry. When the film begins he is in Michael Gough's company, and Gough (in a memorable moment) is trying to impress his would-be father-in-law (Cecil Parker) by showing him the ship-shape firm he runs. While having lunch with Parker and Parker's daughter (Joan Greenwood), Gough gets a message regarding some problems about the lab's unexpectedly large budget problems. He reads the huge expenditures (due to Guinness's experiments), and chokes on his coffee.<br /><br />Guinness goes on to work at Parker's firm, and repeats the same tricks he did with Gough - but Parker discovers it too. Greenwood has discovered what Guinness is working on, and convinces Parker to continue the experiments (but now legally). The result: Guinness and his assistant has apparently figured out how to make an artificial fiber that can constantly change the electronic bonds within it's molecular structure so that (for all intents and purposes) the fiber will remain in tact for good. Any textile made from it will never fade, get dirty, or wear out - it will last forever.<br /><br />Guinness has support from a female shop steward, but not her chief. He sees Guinness as selling out to the rich. But when he explains to them what he's done, they turn against him. If everyone has clothes that will last forever then they will not need new clothes! Soon Parkers' fellow textile tycoons (led by Gough, Ernest Theisinger - in a wonderful performance, and Howard Marion-Crawford) are equally panic stricken by what may end their businesses. They seek to suppress the invention. With only Greenwood in his corner (although Parker sort of sympathizes with him), Guinness tries to get the news of his discovery to the public.<br /><br />In the end, Guinness is defeated by science as well as greed. But he ends the film seeing the error in his calculations, and we guess that one day he may still pull off his discovery after all.<br /><br />It's a brilliant comedy. But is the argument for suppression valid? At one point the difficulties of making the textile are shown (you have to heat the threads to a high temperature to actually enable the ends of the material to be united. There is nothing that shows the cloth will stretch if the owner gets fat (or contract if the owner gets thin). Are we to believe that people only would want one set of clothing for ever? What happened to fashion changes and new styles? And the cloth is only made in the color white (making Guinness look like a white knight). We are told that color dye would have to be added earlier in the process. Wouldn't that have an effect on the chemical reactions that maintain the structure of the textile? <br /><br />Alas this is not a science paper, but a film about the hypocrisies of labor and capital in modern industry. As such it is brilliant. But those questions I mention keep bothering me about the validity of suppressing Guinness' invention\",\n",
       "       \"A number of contributors have mentioned the age difference between Stewart and Novak. She was 25 and he was 50 when this movie was released. I think that the difference didn't matter for a suspense drama like Vertigo, but it does matter for a romantic comedy. We can easily understand, that is, why his character would be attracted to hers, but it's less clear why hers would be attracted to his.<br /><br />Still, the movie works as a light romantic fantasy. The scene where she stares at him across the cat's head, with her dark painted-on eyebrows flaring and the sounds of her humming and the cat purring, is true magic. It's a little jarring, therefore, when the scene shifts to the top of the Flatiron Building, and we see the age difference very sharply. As he embraces her, she reaches up to run her fingers through his hair, but stops that motion and just brushes her fingertips lightly against his toupee.\",\n",
       "       \"Mario is invited to Princess Peach's castle for cake. When Mario gets there, he finds out that Bowser has kidnapped her! Mario must save the day again. Unlike the 2-D games, Mario can explore anything he wants to. He can just roam around, climb trees trying to look for 1-Ups, find secrets in levels, and more. You can spend four hours in one level. No time limits. There are 16 worlds, with a number of stages, and there are star doors, which you need a certain number of stars to get into. Once you get in these star doors, you must go through a stage and fight Bowser at the end of the stage. To get to certain worlds, you need a number of stars to get in. You enter the world by going through a painting. There is so much stuff to do and so many hours of gameplay, I don't see how anyone could dislike this game. It's great. This launch title is the game that insured gamers that the N64 would have a good life. Every 3D plat-form game we know of has something in common with SM64. Banjo Kazooie and Banjo Tooie are examples that are commonly used. Super Mario 64 is one of the greatest games in the history of 3D games. 10 out of 10. If you have an N64, buy this game. It's hard to find used, because no one's selling this baby for 5 bucks at the pawn shop. A perfect 10.\",\n",
       "       \"Road to Perdition, a movie undeservedly overlooked at that year Oscars is the second work of Sam Mendes (and in my opinion his best work), a director who three years before won Oscar for his widely acclaimed but controversial American Beauty. This is a terrific movie, and at the same time ultimately poignant and sad.<br /><br />It's a story of a relatively wealthy and happy family from outward appearance during difficult times of Depression when the, Michael Sullivan, a father of two children, played by great Tom Hanks (I'm not his admirer but ought to say that) is a hit-man for local mafia boss, played by Paul Newman. His eldest son, a thirteen years boy Michael Sullivan Jr., perfectly played by young Tyler Hoechlin, after years of blissful ignorance finds out what is his father job and on what money their family live. Prompted by his curiosity and his aspiration to know truth he accidentally becomes a witness of a murder, committed by John Rooney, son of his father boss. Such discovery strikes an innocent soul and it caused numerous events that changed his life forever. The atmosphere of the period, all the backgrounds and decorations are perfectly created, editing and cinematography are almost flawless while the story is well written. But the main line of the movie, the most important moments and points of the movie and the key factor of the movie success are difficult father-son relations in bad times. They are shown so deeply, strong and believable. Tom Hanks does excellent and has one of the best performances of his career in a quite unusual role for him and all acting across the board is superb. Finally worth to mention a very nice score by Paul Newman and in the result we get an outstanding work of all people involved in making this beautiful (but one more time sad) masterpiece. I believe Road to Perdition belongs to greatest achievements of film-making of this decade and undoubtedly one of the best films of the year.<br /><br />My grade 10 out of 10\",\n",
       "       'This is 30 minute show about one joke. The joke, Cavemen are not treated fairly. HaHaHa!!! He can\\'t dial a phone because he is a Caveman. Cavemen are not as smart as human beings. Oh jeez, those Cavemen are so unsophisticated. There is no humor in this show. They can only run off this one joke for so long and they already have with the Geico commercials. This show does not deserve a time slot on national T.V. <br /><br />This show tries to hard to be funny, but it just isn\\'t. Watching this show, I was thinking that it was trying to be like a \"Bachelor\\'s Gone Wild Show.\" Meaning they go to the bar and try to sleep with many women. The crying caveman is annoying. The caveman with the glasses is too smart to be a caveman(HAHAHA!!!). All three of them have personalities, but I can\\'t figure out why I don\\'t care about them.',\n",
       "       \"Very businesslike authority with little responsibility and only a desire to keep his/her name clean - check. A veteran cop that has bad relationship with his family - check. Mafia guys that while criminals, want to do something good vigilante style - check. A sociopath and loyal mafia guy not hesitant to kill people to make an example - check. Cops' methods being less effective than the mafia guy's brutal yet very effective methods - check. A corrupt cop tying the authority, the criminals and the police together - check.<br /><br />Slow motion and/or jerky frame rates for showing what the actor's reaction can't - check. A serial killer whose background is explained in far too much detail, esp. using childhood abuse as the reason for everything - check. A child spree killer that is very, very non-menacing - check. Foreshadowing of the veteran cop's moral values not being what the killer deserves in the movie's and the majority of characters' opinion - check. Morally ambiguous and predictable ending thanks to the foreshadowing and the good veteran cop's coming to terms he should submit to the vigilante attitude of the majority of the characters - check.<br /><br />Recently saw this on TV and decided to endure it because it had Dennis Hopper in it and I could not sleep - check. Realized that was a mistake and should just have stared at the ceiling - check.\",\n",
       "       \"There's about 25 years worth of inspiration packed into it. Beginning with existential themes of Blade Runner, as well as the vision of the future - with corporate billboards advertising their products, to the technology of the later Matrix films and Spielberg's A.I., and finally the black and white graphic novel look similar in style of Sin City. The creators have put in a lot of effort in the visual department and the outcome is a well crafted future neo-noir. Add a detective story and you've got an interesting film. I know what it wanted to be, but regardless of the stunning visuals, it wasn't enough to get it to the final destination.\",\n",
       "       \"This movie isn't as bad as I heard. It was enjoyable, funny and I love that is revolves around the holiday season. It totally has me in the mood to Christmas shop and listen to holiday music. When this movie comes out on DVD it will take the place of Christmas Vacation in my collection. It will be a movie to watch every year after Thanksgiving to get me in the mood for the best time of the year. I heard that Ben's character was a bit crazy but I think it just adds to the movie and why be so serious all the time. Take it for what is it, a Christmas comedy with a love twist. I enjoyed it. No, it isn't Titanic and it won't make your heart pound with anticipation but it will bring on a laugh or two. So go laugh and have a good time:)\",\n",
       "       'This movie made me really mad because the main characters or all the characters have a southern accent. I\\'ve lived in Iowa for 29 years and I know that people don\\'t have a southern accent here. This movie is about a guy who does meth and I don\\'t know the real plot or what the movie is suppose to be about. It has some pretty graphic drug use in it and it\\'s really insulting so see these people use meth like it was sugar. I lost my brother to meth and this movie makes me sick to my stomach because it glamorizes the drug. The movie makes it look cool to use the drug but I was happy at the end when the guy almost made it across the state line. I also know that most women who experience a traumatic rape don\\'t want to make love to their boyfriend or husband the next day. The movie is just wrong in all directions. I would suggest \"The Basketball Diaries\" if I was going to suggest a movie about drugs.',\n",
       "       \"What a great film it is. The notion of nations sending people fighting each other with giant robots is tacky. The ending is not just a fitting one, it's more inspirational.<br /><br />But I am intrigued by the characters. It is a pity we never see the relationship of Achilles and Athena more developed beyond just a couple of kisses and Athena's fear for Achilles's safety. Their romance is very enjoyable.<br /><br />\"],\n",
       "      dtype='<U13704')"
      ]
     },
     "execution_count": 73,
     "metadata": {},
     "output_type": "execute_result"
    }
   ],
   "source": [
    "TT[0]"
   ]
  },
  {
   "cell_type": "code",
   "execution_count": null,
   "metadata": {
    "collapsed": true
   },
   "outputs": [],
   "source": []
  }
 ],
 "metadata": {
  "kernelspec": {
   "display_name": "Python 3",
   "language": "python",
   "name": "python3"
  },
  "language_info": {
   "codemirror_mode": {
    "name": "ipython",
    "version": 3
   },
   "file_extension": ".py",
   "mimetype": "text/x-python",
   "name": "python",
   "nbconvert_exporter": "python",
   "pygments_lexer": "ipython3",
   "version": "3.6.0"
  }
 },
 "nbformat": 4,
 "nbformat_minor": 2
}
