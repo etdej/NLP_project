{
 "cells": [
  {
   "cell_type": "code",
   "execution_count": 1,
   "metadata": {
    "collapsed": false
   },
   "outputs": [],
   "source": [
    "import re, collections\n",
    "from nltk import word_tokenize, RegexpTokenizer"
   ]
  },
  {
   "cell_type": "code",
   "execution_count": 43,
   "metadata": {
    "collapsed": true
   },
   "outputs": [],
   "source": [
    "text1 = \"An inexperienced England side held world champions Germany to a goalless draw in an entertaining international friendly at Wembley.\"\n",
    "text2 = \"On Friday it was announced by Marseille his contract had been terminated 'by mutual consent' and he would leave the club immediately.\"\n",
    "text3 = \"He will remain suspended should he sign for a club who is still in European competition.\"\n",
    "text4 = \"Gareth Bale has suffered a further injury setback in his bid to return to action with Real Madrid.\"\n",
    "text5 = \"Sadio Mane played the leading role to take Senegal to next year's World Cup in Russia\"\n",
    "text6 = \"However Marcelo soon made it two with a thumping right-footed drive from outside the box, before Jesus made it three\"\n",
    "text7 = \"Nadal faces David Goffin of Belgium on Monday evening in the last of the first round of matches. \"\n",
    "text8 = \"Former Barcelona and Spain midfielder Xavi Hernandez is set to retire at the end of the season and is keen to pursue a coaching career.\"\n",
    "text9 = \"In truth, Sweden rarely threatened in attack and there was more than a hint of good fortune about Johansson’s goal\"\n",
    "text10 = \"Two-time former World Player of the Year Ronaldinho Gaucho has signed an 17-month contact with Fluminense, the club said on Saturday.\"\n",
    "text11 = \"Sepp Blatter has been accused of sexual assault by former USA women's goalkeeper Hope Solo.\"\n",
    "text12 = \"Solo says the incident happened just before they went on stage together and has recently spoken out about sexual harassment in general in the wake of the Harvey Weinstein scandal.\"\n",
    "text13 = \"Lampard was full of praise for Emenalo and didn't rule out taking the role.\"\n",
    "text14 = \"Belgium are now undefeated in 14 games but needed a Lukaku equaliser in the 70th minute to secure a draw having twice led.\"\n",
    "text15 = \"Mexico could not hold on for the win but were impressive as they put down a marker for next year's World Cup finals\"\n",
    "text16 = \"England held world champions Germany to a 0-0 draw after giving debuts to five players as their inexperienced team came through a first-half lesson in a lively Wembley friendly on Friday.\"\n",
    "text17 = \"Nigeria had already secured qualification last month and without the injured Victor Moses, and John Obi Mikel on the bench, they used the outing to give other players an opportunity to stake their claim for a place at the finals in Russia.\"\n",
    "text18 = \"Slimani also had a chance just 23 seconds into the match as he powered through the visiting defence in an effort to get his head onto a cross from Riyad Mahrez, but his effort went wide.\"\n",
    "text19 = \"Given that he currently plays for a struggling Everton side, Pickford showed a fair bit of composure on his debut.\"\n",
    "text20 = \"And it’s surely too early to say, but others are now convinced he has leapfrogged both other goalkeepers who were named into the squad, straight into pole position to be keeper for the World Cup next year…\"\n",
    "text21 = \"Although, given the lowly position of all three keepers’ teams in the Premier League, a bit of sorting out of the Toffees defence by Sam Allardyce, assuming he is soon appointed manager soon, and some more inspired displays, it might not be total fantasy…\"\n",
    "text22 = \"Lewis Hamilton, with four world championship stars now painted on his race helmet, smashed the Interlagos track record as Mercedes dominated Friday's opening Brazilian Grand Prix practice.\"\n",
    "text23 = \"The Finn was the best of the non-Mercedes rest, with Red Bull's Dutch 20-year-old Max Verstappen fourth on the timesheets on a sunny morning in Sao Paulo.\"\n",
    "text24 = \"With none of the top four teams able to improve their placings or in any danger of dropping down the order, others were also turning their thoughts to next year.\"\n",
    "text25 = \"These sessions are so valuable now. They are the last opportunities this year to try a few things out for future car development.\"\n",
    "text26 = \"New Zealander Hartley, who won the world endurance championship for the second time last weekend, failed to set a time on the morning of his 28th birthday thanks to an engine blowup while French rookie Gasly also stopped early on.\"\n",
    "text27 = \"I don't know the track so for me it was really important to get some running,\" said Gasly. \"But there is nothing we can do, we just need to wait\"\n",
    "\n",
    "list_text = [text1,text2,text3,text4,text5,text6,text7,text8,text9,text10,text11,text12,text13,text14,text15,text16,\n",
    "            text17,text18,text19,text20,text21,text22,text23]"
   ]
  },
  {
   "cell_type": "code",
   "execution_count": 44,
   "metadata": {
    "collapsed": true
   },
   "outputs": [],
   "source": [
    "def create_initial_vocab(list_text):\n",
    "    tokenizer = RegexpTokenizer(r'\\w+')\n",
    "    counter = collections.Counter()\n",
    "    for text in list_text:\n",
    "        test_tok = tokenizer.tokenize(text.lower())\n",
    "        counter.update(test_tok)\n",
    "    counter_dict = dict(counter)\n",
    "    vocab = {}\n",
    "    for key in counter_dict.keys():\n",
    "        new_key = ' '.join(list(key)) + ' </w>'\n",
    "        vocab[new_key] = counter_dict[key]\n",
    "    return vocab    \n",
    "    "
   ]
  },
  {
   "cell_type": "code",
   "execution_count": 45,
   "metadata": {
    "collapsed": false
   },
   "outputs": [],
   "source": [
    "def get_stats(vocab):\n",
    "    pairs = collections.defaultdict(int)\n",
    "    for word, freq in vocab.items():\n",
    "        symbols = word.split()\n",
    "        for i in range(len(symbols)-1):\n",
    "            pairs[symbols[i],symbols[i+1]] += freq\n",
    "    return pairs"
   ]
  },
  {
   "cell_type": "code",
   "execution_count": 46,
   "metadata": {
    "collapsed": true
   },
   "outputs": [],
   "source": [
    "def merge_vocab(pair, v_in):\n",
    "    v_out = {}\n",
    "    bigram = re.escape(' '.join(pair))\n",
    "    p = re.compile(r'(?<!\\S)' + bigram + r'(?!\\S)')\n",
    "    for word in v_in:\n",
    "        w_out = p.sub(''.join(pair), word)\n",
    "        v_out[w_out] = v_in[word]\n",
    "    return v_out"
   ]
  },
  {
   "cell_type": "code",
   "execution_count": 47,
   "metadata": {
    "collapsed": true
   },
   "outputs": [],
   "source": [
    "def create_vocab(list_text,num_merges):\n",
    "    vocab = create_initial_vocab(list_text)\n",
    "    for i in range(num_merges):\n",
    "        pairs = get_stats(vocab)\n",
    "        best = max(pairs, key=pairs.get)\n",
    "        print(best)\n",
    "        vocab = merge_vocab(best, vocab)\n",
    "    return vocab        "
   ]
  },
  {
   "cell_type": "code",
   "execution_count": 49,
   "metadata": {
    "collapsed": false
   },
   "outputs": [
    {
     "name": "stdout",
     "output_type": "stream",
     "text": [
      "('e', '</w>')\n",
      "('d', '</w>')\n",
      "('n', '</w>')\n",
      "('t', 'h')\n",
      "('t', '</w>')\n",
      "('s', '</w>')\n",
      "('e', 'r')\n",
      "('o', '</w>')\n",
      "('i', 'n')\n",
      "('y', '</w>')\n",
      "('e', 'n')\n",
      "('o', 'r')\n",
      "('e', 'd</w>')\n",
      "('a', 'l')\n",
      "('th', 'e</w>')\n",
      "('a', '</w>')\n",
      "('a', 'n')\n",
      "('t', 'o</w>')\n",
      "('i', 'n</w>')\n",
      "('o', 'n</w>')\n",
      "('a', 'r')\n",
      "('er', '</w>')\n",
      "('f', 'or')\n",
      "('o', 'n')\n",
      "('o', 'u')\n",
      "('e', 'l')\n",
      "('h', 'a')\n",
      "('u', 'r')\n",
      "('an', 'd</w>')\n",
      "('in', 'g')\n"
     ]
    }
   ],
   "source": [
    "res = create_vocab(list_text,30)"
   ]
  },
  {
   "cell_type": "code",
   "execution_count": null,
   "metadata": {
    "collapsed": false
   },
   "outputs": [],
   "source": []
  },
  {
   "cell_type": "code",
   "execution_count": null,
   "metadata": {
    "collapsed": true
   },
   "outputs": [],
   "source": []
  }
 ],
 "metadata": {
  "kernelspec": {
   "display_name": "Python 3",
   "language": "python",
   "name": "python3"
  },
  "language_info": {
   "codemirror_mode": {
    "name": "ipython",
    "version": 3
   },
   "file_extension": ".py",
   "mimetype": "text/x-python",
   "name": "python",
   "nbconvert_exporter": "python",
   "pygments_lexer": "ipython3",
   "version": "3.6.0"
  }
 },
 "nbformat": 4,
 "nbformat_minor": 2
}
