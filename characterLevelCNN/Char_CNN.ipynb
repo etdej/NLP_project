{
 "cells": [
  {
   "cell_type": "code",
   "execution_count": 2,
   "metadata": {
    "collapsed": true
   },
   "outputs": [],
   "source": [
    "import torch\n",
    "import torch.nn as nn\n",
    "from torch.autograd import Variable"
   ]
  },
  {
   "cell_type": "code",
   "execution_count": 13,
   "metadata": {
    "collapsed": true
   },
   "outputs": [],
   "source": [
    "class Char_CNN_Small(nn.Module):\n",
    "    \n",
    "    def __init__(self,\n",
    "                 fully_layers,\n",
    "                 l0,\n",
    "                 alphabet_size,\n",
    "                 nb_classes,\n",
    "                 batch_size,\n",
    "                 ):\n",
    "        super(Char_CNN,self).__init__()\n",
    "        \n",
    "        self.conv_layers = [\n",
    "                    [256, 7, 3],\n",
    "                    [256, 7, 3],\n",
    "                    [256, 3, None],\n",
    "                    [256, 3, None],\n",
    "                    [256, 3, None],\n",
    "                    [256, 3, 3]\n",
    "                    ]\n",
    "        self.fully_layers = fully_layers\n",
    "        self.batch_size = batch_size\n",
    "        self.nb_classes = nb_classes\n",
    "        \n",
    "        self.convs = []\n",
    "        self.linear = []\n",
    "        self.max_pool = nn.MaxPool1d(3)\n",
    "        self.relu = nn.ReLU()\n",
    "        self.dropout = nn.Dropout()\n",
    "        \n",
    "        in_feat = alphabet_size\n",
    "        for out_feat, kernel_size, max_pool in conv_layers:\n",
    "            conv = nn.Conv1d(in_feat, out_feat, kernel_size)\n",
    "            self.convs.append(conv)\n",
    "            in_feat = out_feat\n",
    "        \n",
    "        l6 = int((l0 - 96)/27)\n",
    "        in_feat = l6*out_feat\n",
    "        \n",
    "        for out_feat in fully_layers:\n",
    "            self.linear.append(nn.Linear(in_feat, out_feat))\n",
    "            in_feat = out_feat\n",
    "        \n",
    "        self.classifier = nn.Linear(in_feat, nb_classes)\n",
    "        \n",
    "        if self.nb_classes == 2:\n",
    "            self.class_non_lin = nn.Sigmoid()\n",
    "        else:\n",
    "            self.class_non_lin = nn.Softmax()\n",
    "        \n",
    "\n",
    "    def forward(self, x):\n",
    "        out = x \n",
    "        print(out.size())\n",
    "        for conv in self.convs[:2]:\n",
    "            out = conv(out)\n",
    "            out = self.relu(out)\n",
    "            out = self.max_pool(out)\n",
    "            print(out.size())\n",
    "            \n",
    "        for conv in self.convs[2:5]:\n",
    "            out = conv(out)\n",
    "            out = self.relu(out)\n",
    "            print(out.size())\n",
    "            \n",
    "            \n",
    "        out = self.convs[5](out)\n",
    "        out = self.relu(out)\n",
    "        out = self.max_pool(out)\n",
    "        print(out.size())\n",
    "        \n",
    "        out = out.view(batch_size, -1)\n",
    "        print(out.size())\n",
    "        \n",
    "        for lin in self.linear:\n",
    "            out = lin(out)\n",
    "            out = self.relu(out)\n",
    "            out = self.dropout(out)\n",
    "            print(out.size())\n",
    "\n",
    "            \n",
    "        out = self.classifier(out)\n",
    "        out = self.class_non_lin(out)\n",
    "        \n",
    "        return out\n",
    "    \n",
    "    def init_weights(self):\n",
    "        for conv in self.convs:\n",
    "            nn.init.normal(conv.weight, mean=0, std=0.02)"
   ]
  },
  {
   "cell_type": "code",
   "execution_count": null,
   "metadata": {
    "collapsed": true
   },
   "outputs": [],
   "source": []
  },
  {
   "cell_type": "code",
   "execution_count": 14,
   "metadata": {
    "collapsed": true
   },
   "outputs": [],
   "source": [
    "import numpy as np\n",
    "x = torch.randn(batch_size, alphabet_size, l0)\n",
    "x = Variable(x)"
   ]
  },
  {
   "cell_type": "code",
   "execution_count": 15,
   "metadata": {
    "collapsed": true
   },
   "outputs": [],
   "source": [
    "def evaluate(model, data_iter):\n",
    "    model.eval()\n",
    "    correct = 0\n",
    "    total = 0\n",
    "    for i in range(len(data_iter)):\n",
    "        vectors, labels = get_batch(data_iter[i])\n",
    "        #vectors = Variable(torch.stack(vectors).squeeze())\n",
    "        #labels = torch.stack(labels).squeeze()\n",
    "        \n",
    "        output, hidden = model(vectors, hidden)\n",
    "        \n",
    "        predicted = torch.max(output.data, 1)\n",
    "        total += labels.size(0)\n",
    "        correct += (predicted == labels).sum()\n",
    "      \n",
    "    return correct / float(total)"
   ]
  },
  {
   "cell_type": "code",
   "execution_count": 16,
   "metadata": {
    "collapsed": true
   },
   "outputs": [],
   "source": [
    "def training_loop(batch_size, num_epochs, model, loss_, optim, training_iter, eval_iter, train_eval_iter):\n",
    "    step = 0\n",
    "    epoch = 0\n",
    "    total_batches = int(len(training_set) / batch_size)\n",
    "    while epoch <= num_epochs:\n",
    "        model.train()\n",
    "        vectors, labels = get_batch(next(training_iter)) \n",
    "       # vectors = Variable(torch.stack(vectors).squeeze()) # batch_size, seq_len\n",
    "       # labels = Variable(torch.stack(labels).squeeze())\n",
    "    \n",
    "        model.zero_grad()\n",
    "        \n",
    "        output = model(vectors, hidden, c_t)\n",
    "        \n",
    "        lossy = loss_(output, labels)\n",
    "        lossy.backward()\n",
    "        torch.nn.utils.clip_grad_norm(model.parameters(), 5.0)\n",
    "        optim.step()\n",
    "        \n",
    "        if step % total_batches == 0:\n",
    "            if epoch % 5 == 0:\n",
    "                print(\"Epoch %i; Step %i; Loss %f; Train acc: %f; Eval acc %f\" \n",
    "                      %(epoch, step, lossy.data[0],\\\n",
    "                        evaluate(model, train_eval_iter, lstm),\\\n",
    "                        evaluate(model, eval_iter, lstm)))\n",
    "            epoch += 1\n",
    "        step += 1"
   ]
  },
  {
   "cell_type": "code",
   "execution_count": 17,
   "metadata": {},
   "outputs": [
    {
     "ename": "TypeError",
     "evalue": "super(type, obj): obj must be an instance or subtype of type",
     "output_type": "error",
     "traceback": [
      "\u001b[0;31m---------------------------------------------------------------------------\u001b[0m",
      "\u001b[0;31mTypeError\u001b[0m                                 Traceback (most recent call last)",
      "\u001b[0;32m<ipython-input-17-ae2411952326>\u001b[0m in \u001b[0;36m<module>\u001b[0;34m()\u001b[0m\n\u001b[1;32m     18\u001b[0m \u001b[0;34m\u001b[0m\u001b[0m\n\u001b[1;32m     19\u001b[0m \u001b[0;31m# Build, initialize model\u001b[0m\u001b[0;34m\u001b[0m\u001b[0;34m\u001b[0m\u001b[0m\n\u001b[0;32m---> 20\u001b[0;31m \u001b[0mmodel\u001b[0m \u001b[0;34m=\u001b[0m \u001b[0mChar_CNN_Small\u001b[0m\u001b[0;34m(\u001b[0m\u001b[0mfully_layers\u001b[0m\u001b[0;34m,\u001b[0m \u001b[0ml0\u001b[0m\u001b[0;34m,\u001b[0m \u001b[0malphabet_size\u001b[0m\u001b[0;34m,\u001b[0m \u001b[0mnb_classes\u001b[0m\u001b[0;34m,\u001b[0m \u001b[0mbatch_size\u001b[0m\u001b[0;34m)\u001b[0m\u001b[0;34m\u001b[0m\u001b[0m\n\u001b[0m\u001b[1;32m     21\u001b[0m \u001b[0mmodel\u001b[0m\u001b[0;34m.\u001b[0m\u001b[0minit_weights\u001b[0m\u001b[0;34m(\u001b[0m\u001b[0;34m)\u001b[0m\u001b[0;34m\u001b[0m\u001b[0m\n\u001b[1;32m     22\u001b[0m \u001b[0;34m\u001b[0m\u001b[0m\n",
      "\u001b[0;32m<ipython-input-13-934416eec97f>\u001b[0m in \u001b[0;36m__init__\u001b[0;34m(self, fully_layers, l0, alphabet_size, nb_classes, batch_size)\u001b[0m\n\u001b[1;32m      8\u001b[0m                  \u001b[0mbatch_size\u001b[0m\u001b[0;34m,\u001b[0m\u001b[0;34m\u001b[0m\u001b[0m\n\u001b[1;32m      9\u001b[0m                  ):\n\u001b[0;32m---> 10\u001b[0;31m         \u001b[0msuper\u001b[0m\u001b[0;34m(\u001b[0m\u001b[0mChar_CNN\u001b[0m\u001b[0;34m,\u001b[0m\u001b[0mself\u001b[0m\u001b[0;34m)\u001b[0m\u001b[0;34m.\u001b[0m\u001b[0m__init__\u001b[0m\u001b[0;34m(\u001b[0m\u001b[0;34m)\u001b[0m\u001b[0;34m\u001b[0m\u001b[0m\n\u001b[0m\u001b[1;32m     11\u001b[0m \u001b[0;34m\u001b[0m\u001b[0m\n\u001b[1;32m     12\u001b[0m         self.conv_layers = [\n",
      "\u001b[0;31mTypeError\u001b[0m: super(type, obj): obj must be an instance or subtype of type"
     ]
    }
   ],
   "source": [
    "# Hyper Parameters \n",
    "conv_layers = [\n",
    "                    [256, 7, 3],\n",
    "                    [256, 7, 3],\n",
    "                    [256, 3, None],\n",
    "                    [256, 3, None],\n",
    "                    [256, 3, None],\n",
    "                    [256, 3, 3]\n",
    "                    ]\n",
    "\n",
    "fully_layers = [1024, 1024]\n",
    "l0 = 1014\n",
    "alphabet_size = 69\n",
    "nb_classes = 4\n",
    "batch_size = 256\n",
    "\n",
    "learning_rate = 0.2\n",
    "\n",
    "# Build, initialize model\n",
    "model = Char_CNN_Small(fully_layers, l0, alphabet_size, nb_classes, batch_size)\n",
    "model.init_weights()\n",
    "\n",
    "# Loss and Optimizer\n",
    "loss = nn.CrossEntropyLoss()  \n",
    "optimizer = torch.optim.SGD(rnn.parameters(), lr=learning_rate)\n",
    "\n",
    "# Train the model\n",
    "training_iter = data_iter(training_set, batch_size)\n",
    "train_eval_iter = eval_iter(eval_set[:500], batch_size)\n",
    "eval_iter = eval_iter(test_set, batch_size)\n",
    "\n",
    "training_loop(batch_size, num_epochs, rnn, loss, optimizer, training_iter, eval_iter, train_eval_iter)"
   ]
  },
  {
   "cell_type": "code",
   "execution_count": 67,
   "metadata": {},
   "outputs": [
    {
     "name": "stdout",
     "output_type": "stream",
     "text": [
      "torch.Size([32, 69, 1014])\n",
      "torch.Size([32, 256, 336])\n",
      "torch.Size([32, 256, 110])\n",
      "torch.Size([32, 256, 108])\n",
      "torch.Size([32, 256, 106])\n",
      "torch.Size([32, 256, 104])\n",
      "torch.Size([32, 256, 34])\n",
      "torch.Size([32, 8704])\n",
      "torch.Size([32, 1024])\n",
      "torch.Size([32, 1024])\n"
     ]
    },
    {
     "data": {
      "text/plain": [
       "Variable containing:\n",
       " 0.2459  0.2484  0.2456  0.2601\n",
       " 0.2499  0.2448  0.2483  0.2570\n",
       " 0.2452  0.2495  0.2478  0.2575\n",
       " 0.2485  0.2475  0.2466  0.2574\n",
       " 0.2478  0.2481  0.2503  0.2538\n",
       " 0.2482  0.2498  0.2430  0.2590\n",
       " 0.2463  0.2471  0.2496  0.2571\n",
       " 0.2490  0.2499  0.2467  0.2544\n",
       " 0.2473  0.2462  0.2481  0.2585\n",
       " 0.2435  0.2513  0.2458  0.2594\n",
       " 0.2456  0.2499  0.2469  0.2576\n",
       " 0.2460  0.2482  0.2492  0.2566\n",
       " 0.2455  0.2492  0.2487  0.2567\n",
       " 0.2447  0.2509  0.2473  0.2572\n",
       " 0.2496  0.2464  0.2444  0.2596\n",
       " 0.2474  0.2480  0.2477  0.2570\n",
       " 0.2451  0.2481  0.2496  0.2573\n",
       " 0.2457  0.2478  0.2496  0.2569\n",
       " 0.2486  0.2486  0.2463  0.2565\n",
       " 0.2455  0.2511  0.2458  0.2576\n",
       " 0.2459  0.2467  0.2491  0.2582\n",
       " 0.2470  0.2476  0.2482  0.2571\n",
       " 0.2474  0.2513  0.2430  0.2583\n",
       " 0.2449  0.2482  0.2499  0.2569\n",
       " 0.2457  0.2493  0.2471  0.2579\n",
       " 0.2476  0.2462  0.2493  0.2569\n",
       " 0.2465  0.2457  0.2500  0.2578\n",
       " 0.2486  0.2454  0.2512  0.2547\n",
       " 0.2442  0.2523  0.2486  0.2548\n",
       " 0.2476  0.2482  0.2484  0.2558\n",
       " 0.2482  0.2509  0.2475  0.2534\n",
       " 0.2471  0.2504  0.2451  0.2574\n",
       "[torch.FloatTensor of size 32x4]"
      ]
     },
     "execution_count": 67,
     "metadata": {},
     "output_type": "execute_result"
    }
   ],
   "source": [
    "model(x)\n"
   ]
  },
  {
   "cell_type": "code",
   "execution_count": 57,
   "metadata": {},
   "outputs": [
    {
     "data": {
      "text/plain": [
       "8704"
      ]
     },
     "execution_count": 57,
     "metadata": {},
     "output_type": "execute_result"
    }
   ],
   "source": [
    "34*256"
   ]
  },
  {
   "cell_type": "code",
   "execution_count": 52,
   "metadata": {},
   "outputs": [
    {
     "data": {
      "text/plain": [
       "104448"
      ]
     },
     "execution_count": 52,
     "metadata": {},
     "output_type": "execute_result"
    }
   ],
   "source": [
    "102*1024"
   ]
  },
  {
   "cell_type": "code",
   "execution_count": null,
   "metadata": {
    "collapsed": true
   },
   "outputs": [],
   "source": []
  }
 ],
 "metadata": {
  "kernelspec": {
   "display_name": "Python 3",
   "language": "python",
   "name": "python3"
  },
  "language_info": {
   "codemirror_mode": {
    "name": "ipython",
    "version": 3
   },
   "file_extension": ".py",
   "mimetype": "text/x-python",
   "name": "python",
   "nbconvert_exporter": "python",
   "pygments_lexer": "ipython3",
   "version": "3.6.1"
  }
 },
 "nbformat": 4,
 "nbformat_minor": 2
}
