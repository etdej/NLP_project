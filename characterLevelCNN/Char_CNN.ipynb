{
 "cells": [
  {
   "cell_type": "code",
   "execution_count": 2,
   "metadata": {
    "collapsed": true
   },
   "outputs": [],
   "source": [
    "import torch\n",
    "import torch.nn as nn\n",
    "from torch.autograd import Variable"
   ]
  },
  {
   "cell_type": "code",
   "execution_count": 8,
   "metadata": {},
   "outputs": [],
   "source": [
    "class Char_CNN(nn.Module):\n",
    "    \n",
    "    def __init__(self, conv_layers = [\n",
    "                    [256, 7, 3],\n",
    "                    [256, 7, 3],\n",
    "                    [256, 3, None],\n",
    "                    [256, 3, None],\n",
    "                    [256, 3, None],\n",
    "                    [256, 3, 3]\n",
    "                    ],\n",
    "                 fully_layers = [1024, 1024],\n",
    "                 l0 = 1014,\n",
    "                 alphabet_size = 69,\n",
    "                 nb_classes = 4,\n",
    "                 batch_size = 32,\n",
    "                 th = 1e-6):\n",
    "        \n",
    "        super(Char_CNN,self).__init__()\n",
    "        self.conv_layers = conv_layers\n",
    "        self.fully_layers = fully_layers\n",
    "        self.batch_size = batch_size\n",
    "        self.nb_classes = nb_classes\n",
    "        \n",
    "        self.convs = []\n",
    "        self.linear = []\n",
    "        self.max_pool = nn.MaxPool1d(3)\n",
    "        self.relu = nn.ReLU()\n",
    "        self.dropout = nn.Dropout()\n",
    "        \n",
    "        in_feat = alphabet_size\n",
    "        for out_feat, kernel_size, max_pool in conv_layers:\n",
    "            conv = nn.Conv1d(in_feat, out_feat, kernel_size)\n",
    "            self.convs.append(conv)\n",
    "            in_feat = out_feat\n",
    "        \n",
    "        l6 = int((l0 - 96)/27)\n",
    "        in_feat = l6*out_feat\n",
    "        \n",
    "        for out_feat in fully_layers:\n",
    "            self.linear.append(nn.Linear(in_feat, out_feat))\n",
    "            in_feat = out_feat\n",
    "        \n",
    "        self.classifier = nn.Linear(in_feat, nb_classes)\n",
    "        \n",
    "        if self.nb_classes == 2:\n",
    "            self.class_non_lin = nn.Sigmoid()\n",
    "        else:\n",
    "            self.class_non_lin = nn.Softmax()\n",
    "        \n",
    "\n",
    "    def forward(self, x):\n",
    "        out = x \n",
    "        print(out.size())\n",
    "        for conv in self.convs[:2]:\n",
    "            out = conv(out)\n",
    "            out = self.relu(out)\n",
    "            out = self.max_pool(out)\n",
    "            print(out.size())\n",
    "            \n",
    "        for conv in self.convs[2:5]:\n",
    "            out = conv(out)\n",
    "            out = self.relu(out)\n",
    "            print(out.size())\n",
    "            \n",
    "            \n",
    "        out = self.convs[5](out)\n",
    "        out = self.relu(out)\n",
    "        out = self.max_pool(out)\n",
    "        print(out.size())\n",
    "        \n",
    "        out = out.view(batch_size, -1)\n",
    "        print(out.size())\n",
    "        \n",
    "        for lin in self.linear:\n",
    "            out = lin(out)\n",
    "            out = self.relu(out)\n",
    "            out = self.dropout(out)\n",
    "            print(out.size())\n",
    "\n",
    "            \n",
    "        out = self.classifier(out)\n",
    "        out = self.class_non_lin(out)\n",
    "        \n",
    "        return out\n",
    "    \n",
    "    def init(self):\n",
    "        for conv in self.convs:\n",
    "            nn.init.normal(conv.weight, mean=0, std=0.02)"
   ]
  },
  {
   "cell_type": "code",
   "execution_count": 9,
   "metadata": {},
   "outputs": [],
   "source": [
    "conv_layers = [\n",
    "                    [256, 7, 3],\n",
    "                    [256, 7, 3],\n",
    "                    [256, 3, None],\n",
    "                    [256, 3, None],\n",
    "                    [256, 3, None],\n",
    "                    [256, 3, 3]\n",
    "                    ]\n",
    "\n",
    "fully_layers = [1024, 1024]\n",
    "l0 = 1014\n",
    "alphabet_size = 69\n",
    "nb_classes = 4\n",
    "batch_size = 32\n",
    "\n",
    "model = Char_CNN(conv_layers=conv_layers,\n",
    "                 fully_layers=fully_layers,\n",
    "                 l0=l0,\n",
    "                 alphabet_size=alphabet_size,\n",
    "                 nb_classes=nb_classes,\n",
    "                 batch_size=batch_size\n",
    "                )\n",
    "model.init()"
   ]
  },
  {
   "cell_type": "code",
   "execution_count": 66,
   "metadata": {
    "collapsed": true
   },
   "outputs": [],
   "source": [
    "import numpy as np\n",
    "x = torch.randn(batch_size, alphabet_size, l0)\n",
    "x = Variable(x)"
   ]
  },
  {
   "cell_type": "code",
   "execution_count": 67,
   "metadata": {},
   "outputs": [
    {
     "name": "stdout",
     "output_type": "stream",
     "text": [
      "torch.Size([32, 69, 1014])\n",
      "torch.Size([32, 256, 336])\n",
      "torch.Size([32, 256, 110])\n",
      "torch.Size([32, 256, 108])\n",
      "torch.Size([32, 256, 106])\n",
      "torch.Size([32, 256, 104])\n",
      "torch.Size([32, 256, 34])\n",
      "torch.Size([32, 8704])\n",
      "torch.Size([32, 1024])\n",
      "torch.Size([32, 1024])\n"
     ]
    },
    {
     "data": {
      "text/plain": [
       "Variable containing:\n",
       " 0.2459  0.2484  0.2456  0.2601\n",
       " 0.2499  0.2448  0.2483  0.2570\n",
       " 0.2452  0.2495  0.2478  0.2575\n",
       " 0.2485  0.2475  0.2466  0.2574\n",
       " 0.2478  0.2481  0.2503  0.2538\n",
       " 0.2482  0.2498  0.2430  0.2590\n",
       " 0.2463  0.2471  0.2496  0.2571\n",
       " 0.2490  0.2499  0.2467  0.2544\n",
       " 0.2473  0.2462  0.2481  0.2585\n",
       " 0.2435  0.2513  0.2458  0.2594\n",
       " 0.2456  0.2499  0.2469  0.2576\n",
       " 0.2460  0.2482  0.2492  0.2566\n",
       " 0.2455  0.2492  0.2487  0.2567\n",
       " 0.2447  0.2509  0.2473  0.2572\n",
       " 0.2496  0.2464  0.2444  0.2596\n",
       " 0.2474  0.2480  0.2477  0.2570\n",
       " 0.2451  0.2481  0.2496  0.2573\n",
       " 0.2457  0.2478  0.2496  0.2569\n",
       " 0.2486  0.2486  0.2463  0.2565\n",
       " 0.2455  0.2511  0.2458  0.2576\n",
       " 0.2459  0.2467  0.2491  0.2582\n",
       " 0.2470  0.2476  0.2482  0.2571\n",
       " 0.2474  0.2513  0.2430  0.2583\n",
       " 0.2449  0.2482  0.2499  0.2569\n",
       " 0.2457  0.2493  0.2471  0.2579\n",
       " 0.2476  0.2462  0.2493  0.2569\n",
       " 0.2465  0.2457  0.2500  0.2578\n",
       " 0.2486  0.2454  0.2512  0.2547\n",
       " 0.2442  0.2523  0.2486  0.2548\n",
       " 0.2476  0.2482  0.2484  0.2558\n",
       " 0.2482  0.2509  0.2475  0.2534\n",
       " 0.2471  0.2504  0.2451  0.2574\n",
       "[torch.FloatTensor of size 32x4]"
      ]
     },
     "execution_count": 67,
     "metadata": {},
     "output_type": "execute_result"
    }
   ],
   "source": [
    "model(x)\n"
   ]
  },
  {
   "cell_type": "code",
   "execution_count": 57,
   "metadata": {},
   "outputs": [
    {
     "data": {
      "text/plain": [
       "8704"
      ]
     },
     "execution_count": 57,
     "metadata": {},
     "output_type": "execute_result"
    }
   ],
   "source": [
    "34*256"
   ]
  },
  {
   "cell_type": "code",
   "execution_count": 52,
   "metadata": {},
   "outputs": [
    {
     "data": {
      "text/plain": [
       "104448"
      ]
     },
     "execution_count": 52,
     "metadata": {},
     "output_type": "execute_result"
    }
   ],
   "source": [
    "102*1024"
   ]
  },
  {
   "cell_type": "code",
   "execution_count": null,
   "metadata": {
    "collapsed": true
   },
   "outputs": [],
   "source": []
  }
 ],
 "metadata": {
  "kernelspec": {
   "display_name": "Python 3",
   "language": "python",
   "name": "python3"
  },
  "language_info": {
   "codemirror_mode": {
    "name": "ipython",
    "version": 3
   },
   "file_extension": ".py",
   "mimetype": "text/x-python",
   "name": "python",
   "nbconvert_exporter": "python",
   "pygments_lexer": "ipython3",
   "version": "3.6.1"
  }
 },
 "nbformat": 4,
 "nbformat_minor": 2
}
