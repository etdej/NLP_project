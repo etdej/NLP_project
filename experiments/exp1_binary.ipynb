{
 "cells": [
  {
   "cell_type": "code",
   "execution_count": 1,
   "metadata": {
    "collapsed": true,
    "deletable": true,
    "editable": true
   },
   "outputs": [],
   "source": [
    "import sys\n",
    "sys.path.insert(0,'/home/ecd353/NLP_project')"
   ]
  },
  {
   "cell_type": "code",
   "execution_count": 2,
   "metadata": {
    "collapsed": false
   },
   "outputs": [],
   "source": [
    "import comet_ml\n",
    "from comet_ml import Experiment"
   ]
  },
  {
   "cell_type": "code",
   "execution_count": 3,
   "metadata": {
    "collapsed": false,
    "deletable": true,
    "editable": true
   },
   "outputs": [],
   "source": [
    "# %load exp0.py\n",
    "\n",
    "import torch.nn as nn\n",
    "import torch\n",
    "from data_processing.extract import *\n",
    "from models.Char_CNN_Small import *\n",
    "from models.tools import *\n",
    "import numpy as np\n",
    "\n"
   ]
  },
  {
   "cell_type": "code",
   "execution_count": 4,
   "metadata": {
    "collapsed": false,
    "deletable": true,
    "editable": true
   },
   "outputs": [
    {
     "name": "stdout",
     "output_type": "stream",
     "text": [
      "generating dataset\n"
     ]
    }
   ],
   "source": [
    "## generate dataset\n",
    "print(\"generating dataset\")\n",
    "data_path='/home/ecd353/NLP_project/data'\n",
    "training_set, validation_set = dataGenerator(data_path, binary=True)"
   ]
  },
  {
   "cell_type": "code",
   "execution_count": null,
   "metadata": {
    "collapsed": false,
    "deletable": true,
    "editable": true
   },
   "outputs": [
    {
     "name": "stderr",
     "output_type": "stream",
     "text": [
      "Failed to read source code file from disk: <ipython-input-7-3c668625bf8a>\n"
     ]
    }
   ],
   "source": [
    "# Hyper Parameters\n",
    "\n",
    "\n",
    "fully_layers = [1024, 1024]\n",
    "l0 = 1014\n",
    "alphabet_size = 68\n",
    "nb_classes = 2\n",
    "batch_size = 32\n",
    "\n",
    "learning_rate = 0.01 * np.sqrt(batch_size) / np.sqrt(128)\n",
    "print(learning_rate)\n",
    "num_epochs = 200\n",
    "\n",
    "\n",
    "# Build, initialize model\n",
    "model = Char_CNN_Small(fully_layers, l0, alphabet_size, nb_classes, batch_size)\n",
    "model.init_weights()\n",
    "\n",
    "# Loss and Optimizer\n",
    "\n",
    "loss = nn.CrossEntropyLoss()\n",
    "optimizer = torch.optim.SGD(model.parameters(), lr=learning_rate, momentum=0.9)\n",
    "\n",
    "# Train the model\n",
    "training_iter = data_iter(training_set[:200], batch_size)\n",
    "train_eval_iter = eval_iter(training_set[:50], batch_size)\n",
    "validation_iter = eval_iter(validation_set[:8], batch_size)\n",
    "\n",
    "#total_batches = int(len(training_set) / batch_size)\n",
    "total_batches = int(200 / batch_size)\n",
    "\n",
    "comet_exp = Experiment(api_key=\"uQuKaohh924bv3c68Jhyumhw7\", log_code=True)\n",
    "\n",
    "training_loop(batch_size, total_batches, alphabet_size, l0, num_epochs, model, loss, optimizer, \n",
    "              training_iter, validation_iter, train_eval_iter, comet_exp)"
   ]
  },
  {
   "cell_type": "code",
   "execution_count": null,
   "metadata": {
    "collapsed": true,
    "deletable": true,
    "editable": true
   },
   "outputs": [],
   "source": []
  }
 ],
 "metadata": {
  "kernelspec": {
   "display_name": "Python 3",
   "language": "python",
   "name": "python3"
  },
  "language_info": {
   "codemirror_mode": {
    "name": "ipython",
    "version": 3
   },
   "file_extension": ".py",
   "mimetype": "text/x-python",
   "name": "python",
   "nbconvert_exporter": "python",
   "pygments_lexer": "ipython3",
   "version": "3.5.3"
  }
 },
 "nbformat": 4,
 "nbformat_minor": 2
}
